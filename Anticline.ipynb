{
 "cells": [
  {
   "cell_type": "code",
   "execution_count": 2,
   "id": "3ef84022",
   "metadata": {},
   "outputs": [
    {
     "name": "stdout",
     "output_type": "stream",
     "text": [
      "Traceback (most recent call last):\n",
      "  File \"C:\\Users\\AHMED\\anaconda3\\lib\\site-packages\\osgeo\\__init__.py\", line 29, in swig_import_helper\n",
      "    return importlib.import_module(mname)\n",
      "  File \"C:\\Users\\AHMED\\anaconda3\\lib\\importlib\\__init__.py\", line 127, in import_module\n",
      "    return _bootstrap._gcd_import(name[level:], package, level)\n",
      "  File \"<frozen importlib._bootstrap>\", line 1030, in _gcd_import\n",
      "  File \"<frozen importlib._bootstrap>\", line 1007, in _find_and_load\n",
      "  File \"<frozen importlib._bootstrap>\", line 986, in _find_and_load_unlocked\n",
      "  File \"<frozen importlib._bootstrap>\", line 666, in _load_unlocked\n",
      "  File \"<frozen importlib._bootstrap>\", line 565, in module_from_spec\n",
      "  File \"<frozen importlib._bootstrap_external>\", line 1173, in create_module\n",
      "  File \"<frozen importlib._bootstrap>\", line 228, in _call_with_frames_removed\n",
      "ImportError: DLL load failed while importing _gdal: The specified module could not be found.\n",
      "\n",
      "On Windows, with Python >= 3.8, DLLs are no longer imported from the PATH.\n",
      "If gdalXXX.dll is in the PATH, then set the USE_PATH_FOR_GDAL_PYTHON=YES environment variable\n",
      "to feed the PATH into os.add_dll_directory().\n",
      "Not subsurface compatibility available\n"
     ]
    },
    {
     "name": "stderr",
     "output_type": "stream",
     "text": [
      "WARNING (theano.configdefaults): g++ not available, if using conda: `conda install m2w64-toolchain`\n",
      "C:\\Users\\AHMED\\anaconda3\\lib\\site-packages\\theano\\configdefaults.py:560: UserWarning: DeprecationWarning: there is no c++ compiler.This is deprecated and with Theano 0.11 a c++ compiler will be mandatory\n",
      "  warnings.warn(\"DeprecationWarning: there is no c++ compiler.\"\n",
      "WARNING (theano.configdefaults): g++ not detected ! Theano will be unable to execute optimized C-implementations (for both CPU and GPU) and will default to Python implementations. Performance will be severely degraded. To remove this warning, set Theano flags cxx to an empty string.\n",
      "WARNING (theano.tensor.blas): Using NumPy C-API based implementation for BLAS functions.\n"
     ]
    }
   ],
   "source": [
    "# Importing GemPy\n",
    "import gempy as gp\n",
    "\n",
    "import pandas as pd"
   ]
  },
  {
   "cell_type": "code",
   "execution_count": 3,
   "id": "99dbf19e",
   "metadata": {},
   "outputs": [
    {
     "name": "stdout",
     "output_type": "stream",
     "text": [
      "Active grids: ['regular']\n"
     ]
    }
   ],
   "source": [
    "data_path = 'https://raw.githubusercontent.com/cgre-aachen/gempy_data/master/'\n",
    "path_to_data = data_path + \"/data/input_data/jan_models/\"\n",
    "geo_data = gp.create_data('fold', extent=[0, 1000, 0, 1000, 0, 1000], resolution=[50, 50, 50],\n",
    "                          path_o=path_to_data + \"model2_orientations.csv\",\n",
    "                          path_i=path_to_data + \"model2_surface_points.csv\")"
   ]
  },
  {
   "cell_type": "code",
   "execution_count": 4,
   "id": "7bc4add4",
   "metadata": {},
   "outputs": [
    {
     "data": {
      "text/html": [
       "<div>\n",
       "<style scoped>\n",
       "    .dataframe tbody tr th:only-of-type {\n",
       "        vertical-align: middle;\n",
       "    }\n",
       "\n",
       "    .dataframe tbody tr th {\n",
       "        vertical-align: top;\n",
       "    }\n",
       "\n",
       "    .dataframe thead th {\n",
       "        text-align: right;\n",
       "    }\n",
       "</style>\n",
       "<table border=\"1\" class=\"dataframe\">\n",
       "  <thead>\n",
       "    <tr style=\"text-align: right;\">\n",
       "      <th></th>\n",
       "      <th></th>\n",
       "      <th>X</th>\n",
       "      <th>Y</th>\n",
       "      <th>Z</th>\n",
       "      <th>smooth</th>\n",
       "      <th>surface</th>\n",
       "      <th>G_x</th>\n",
       "      <th>G_y</th>\n",
       "      <th>G_z</th>\n",
       "    </tr>\n",
       "  </thead>\n",
       "  <tbody>\n",
       "    <tr>\n",
       "      <th rowspan=\"5\" valign=\"top\">surface_points</th>\n",
       "      <th>0</th>\n",
       "      <td>0</td>\n",
       "      <td>100</td>\n",
       "      <td>200</td>\n",
       "      <td>0.000002</td>\n",
       "      <td>rock1</td>\n",
       "      <td>NaN</td>\n",
       "      <td>NaN</td>\n",
       "      <td>NaN</td>\n",
       "    </tr>\n",
       "    <tr>\n",
       "      <th>1</th>\n",
       "      <td>0</td>\n",
       "      <td>500</td>\n",
       "      <td>200</td>\n",
       "      <td>0.000002</td>\n",
       "      <td>rock1</td>\n",
       "      <td>NaN</td>\n",
       "      <td>NaN</td>\n",
       "      <td>NaN</td>\n",
       "    </tr>\n",
       "    <tr>\n",
       "      <th>2</th>\n",
       "      <td>0</td>\n",
       "      <td>900</td>\n",
       "      <td>200</td>\n",
       "      <td>0.000002</td>\n",
       "      <td>rock1</td>\n",
       "      <td>NaN</td>\n",
       "      <td>NaN</td>\n",
       "      <td>NaN</td>\n",
       "    </tr>\n",
       "    <tr>\n",
       "      <th>3</th>\n",
       "      <td>400</td>\n",
       "      <td>100</td>\n",
       "      <td>600</td>\n",
       "      <td>0.000002</td>\n",
       "      <td>rock1</td>\n",
       "      <td>NaN</td>\n",
       "      <td>NaN</td>\n",
       "      <td>NaN</td>\n",
       "    </tr>\n",
       "    <tr>\n",
       "      <th>4</th>\n",
       "      <td>400</td>\n",
       "      <td>500</td>\n",
       "      <td>600</td>\n",
       "      <td>0.000002</td>\n",
       "      <td>rock1</td>\n",
       "      <td>NaN</td>\n",
       "      <td>NaN</td>\n",
       "      <td>NaN</td>\n",
       "    </tr>\n",
       "  </tbody>\n",
       "</table>\n",
       "</div>"
      ],
      "text/plain": [
       "                    X    Y    Z    smooth surface  G_x  G_y  G_z\n",
       "surface_points 0    0  100  200  0.000002   rock1  NaN  NaN  NaN\n",
       "               1    0  500  200  0.000002   rock1  NaN  NaN  NaN\n",
       "               2    0  900  200  0.000002   rock1  NaN  NaN  NaN\n",
       "               3  400  100  600  0.000002   rock1  NaN  NaN  NaN\n",
       "               4  400  500  600  0.000002   rock1  NaN  NaN  NaN"
      ]
     },
     "execution_count": 4,
     "metadata": {},
     "output_type": "execute_result"
    }
   ],
   "source": [
    "geo_data.get_data().head()"
   ]
  },
  {
   "cell_type": "code",
   "execution_count": 5,
   "id": "9beeb218",
   "metadata": {},
   "outputs": [
    {
     "data": {
      "text/html": [
       "<style type=\"text/css\">\n",
       "#T_76cc1_row0_col3 {\n",
       "  background-color: #015482;\n",
       "}\n",
       "#T_76cc1_row1_col3 {\n",
       "  background-color: #9f0052;\n",
       "}\n",
       "#T_76cc1_row2_col3 {\n",
       "  background-color: #ffbe00;\n",
       "}\n",
       "</style>\n",
       "<table id=\"T_76cc1_\">\n",
       "  <thead>\n",
       "    <tr>\n",
       "      <th class=\"blank level0\" >&nbsp;</th>\n",
       "      <th class=\"col_heading level0 col0\" >surface</th>\n",
       "      <th class=\"col_heading level0 col1\" >series</th>\n",
       "      <th class=\"col_heading level0 col2\" >order_surfaces</th>\n",
       "      <th class=\"col_heading level0 col3\" >color</th>\n",
       "      <th class=\"col_heading level0 col4\" >id</th>\n",
       "    </tr>\n",
       "  </thead>\n",
       "  <tbody>\n",
       "    <tr>\n",
       "      <th id=\"T_76cc1_level0_row0\" class=\"row_heading level0 row0\" >0</th>\n",
       "      <td id=\"T_76cc1_row0_col0\" class=\"data row0 col0\" >rock1</td>\n",
       "      <td id=\"T_76cc1_row0_col1\" class=\"data row0 col1\" >Strat_Series</td>\n",
       "      <td id=\"T_76cc1_row0_col2\" class=\"data row0 col2\" >1</td>\n",
       "      <td id=\"T_76cc1_row0_col3\" class=\"data row0 col3\" >#015482</td>\n",
       "      <td id=\"T_76cc1_row0_col4\" class=\"data row0 col4\" >1</td>\n",
       "    </tr>\n",
       "    <tr>\n",
       "      <th id=\"T_76cc1_level0_row1\" class=\"row_heading level0 row1\" >1</th>\n",
       "      <td id=\"T_76cc1_row1_col0\" class=\"data row1 col0\" >rock2</td>\n",
       "      <td id=\"T_76cc1_row1_col1\" class=\"data row1 col1\" >Strat_Series</td>\n",
       "      <td id=\"T_76cc1_row1_col2\" class=\"data row1 col2\" >2</td>\n",
       "      <td id=\"T_76cc1_row1_col3\" class=\"data row1 col3\" >#9f0052</td>\n",
       "      <td id=\"T_76cc1_row1_col4\" class=\"data row1 col4\" >2</td>\n",
       "    </tr>\n",
       "    <tr>\n",
       "      <th id=\"T_76cc1_level0_row2\" class=\"row_heading level0 row2\" >2</th>\n",
       "      <td id=\"T_76cc1_row2_col0\" class=\"data row2 col0\" >basement</td>\n",
       "      <td id=\"T_76cc1_row2_col1\" class=\"data row2 col1\" >Basement_Series</td>\n",
       "      <td id=\"T_76cc1_row2_col2\" class=\"data row2 col2\" >1</td>\n",
       "      <td id=\"T_76cc1_row2_col3\" class=\"data row2 col3\" >#ffbe00</td>\n",
       "      <td id=\"T_76cc1_row2_col4\" class=\"data row2 col4\" >3</td>\n",
       "    </tr>\n",
       "  </tbody>\n",
       "</table>\n"
      ],
      "text/plain": [
       "    surface           series  order_surfaces    color  id\n",
       "0     rock1     Strat_Series               1  #015482   1\n",
       "1     rock2     Strat_Series               2  #9f0052   2\n",
       "2  basement  Basement_Series               1  #ffbe00   3"
      ]
     },
     "execution_count": 5,
     "metadata": {},
     "output_type": "execute_result"
    }
   ],
   "source": [
    "gp.map_stack_to_surfaces(geo_data, {\"Strat_Series\": ('rock2', 'rock1'), \"Basement_Series\": ('basement')})"
   ]
  },
  {
   "cell_type": "code",
   "execution_count": 6,
   "id": "e0ef1d14",
   "metadata": {},
   "outputs": [
    {
     "name": "stderr",
     "output_type": "stream",
     "text": [
      "C:\\Users\\AHMED\\anaconda3\\lib\\site-packages\\gempy\\plot\\plot_api.py:261: UserWarning: Matplotlib is currently using module://matplotlib_inline.backend_inline, which is a non-GUI backend, so cannot show the figure.\n",
      "  p.fig.show()\n"
     ]
    },
    {
     "data": {
      "text/plain": [
       "<gempy.plot.visualization_2d.Plot2D at 0x2442b4b2fd0>"
      ]
     },
     "execution_count": 6,
     "metadata": {},
     "output_type": "execute_result"
    },
    {
     "data": {
      "image/png": "[encoded data removed]",
      "text/plain": [
       "<Figure size 748.8x514.8 with 1 Axes>"
      ]
     },
     "metadata": {},
     "output_type": "display_data"
    }
   ],
   "source": [
    "gp.plot_2d(geo_data,direction=['y'])"
   ]
  },
  {
   "cell_type": "code",
   "execution_count": 7,
   "id": "893f0465",
   "metadata": {},
   "outputs": [
    {
     "name": "stdout",
     "output_type": "stream",
     "text": [
      "Setting kriging parameters to their default values.\n",
      "Compiling theano function...\n",
      "Level of Optimization:  fast_compile\n",
      "Device:  cpu\n",
      "Precision:  float64\n",
      "Number of faults:  0\n",
      "Compilation Done!\n",
      "Kriging values: \n",
      "                        values\n",
      "range             1732.050808\n",
      "$C_o$            71428.571429\n",
      "drift equations        [3, 3]\n"
     ]
    }
   ],
   "source": [
    "interp_data = gp.set_interpolator(geo_data, theano_optimizer='fast_compile')\n"
   ]
  },
  {
   "cell_type": "code",
   "execution_count": 8,
   "id": "29a17614",
   "metadata": {},
   "outputs": [
    {
     "data": {
      "text/html": [
       "<table border=\"1\" class=\"dataframe\">\n",
       "  <thead>\n",
       "    <tr style=\"text-align: right;\">\n",
       "      <th></th>\n",
       "      <th>X</th>\n",
       "      <th>Y</th>\n",
       "      <th>Z</th>\n",
       "      <th>G_x</th>\n",
       "      <th>G_y</th>\n",
       "      <th>G_z</th>\n",
       "      <th>smooth</th>\n",
       "      <th>surface</th>\n",
       "    </tr>\n",
       "  </thead>\n",
       "  <tbody>\n",
       "    <tr>\n",
       "      <th>1</th>\n",
       "      <td>500</td>\n",
       "      <td>500</td>\n",
       "      <td>620</td>\n",
       "      <td>1.000000e-12</td>\n",
       "      <td>1.000000e-12</td>\n",
       "      <td>1.0</td>\n",
       "      <td>0.01</td>\n",
       "      <td>rock1</td>\n",
       "    </tr>\n",
       "    <tr>\n",
       "      <th>0</th>\n",
       "      <td>500</td>\n",
       "      <td>500</td>\n",
       "      <td>820</td>\n",
       "      <td>1.000000e-12</td>\n",
       "      <td>1.000000e-12</td>\n",
       "      <td>1.0</td>\n",
       "      <td>0.01</td>\n",
       "      <td>rock2</td>\n",
       "    </tr>\n",
       "  </tbody>\n",
       "</table>"
      ],
      "text/plain": [
       "     X    Y    Z           G_x           G_y  G_z  smooth surface\n",
       "1  500  500  620  1.000000e-12  1.000000e-12  1.0    0.01   rock1\n",
       "0  500  500  820  1.000000e-12  1.000000e-12  1.0    0.01   rock2"
      ]
     },
     "execution_count": 8,
     "metadata": {},
     "output_type": "execute_result"
    }
   ],
   "source": [
    "geo_data.orientations"
   ]
  },
  {
   "cell_type": "code",
   "execution_count": 9,
   "id": "da73e8c1",
   "metadata": {},
   "outputs": [],
   "source": [
    "sol = gp.compute_model(geo_data)"
   ]
  },
  {
   "cell_type": "code",
   "execution_count": 10,
   "id": "c2e4fe64",
   "metadata": {},
   "outputs": [
    {
     "name": "stderr",
     "output_type": "stream",
     "text": [
      "C:\\Users\\AHMED\\anaconda3\\lib\\site-packages\\gempy\\plot\\plot_api.py:261: UserWarning: Matplotlib is currently using module://matplotlib_inline.backend_inline, which is a non-GUI backend, so cannot show the figure.\n",
      "  p.fig.show()\n"
     ]
    },
    {
     "data": {
      "text/plain": [
       "<gempy.plot.visualization_2d.Plot2D at 0x2442d529fa0>"
      ]
     },
     "execution_count": 10,
     "metadata": {},
     "output_type": "execute_result"
    },
    {
     "data": {
      "image/png": "[encoded data removed]",
      "text/plain": [
       "<Figure size 748.8x514.8 with 1 Axes>"
      ]
     },
     "metadata": {},
     "output_type": "display_data"
    }
   ],
   "source": [
    "gp.plot_2d(geo_data, cell_number=15,\n",
    "           direction='y', show_data=True)"
   ]
  },
  {
   "cell_type": "code",
   "execution_count": 11,
   "id": "795e13ca",
   "metadata": {},
   "outputs": [
    {
     "name": "stderr",
     "output_type": "stream",
     "text": [
      "C:\\Users\\AHMED\\anaconda3\\lib\\site-packages\\pyvista\\plotting\\tools.py:571: PyvistaDeprecationWarning: The usage of `parse_color` is deprecated in favor of the new `Color` class.\n",
      "  warnings.warn(\n",
      "C:\\Users\\AHMED\\anaconda3\\lib\\site-packages\\pyvista\\utilities\\helpers.py:507: UserWarning: Points is not a float type. This can cause issues when transforming or applying filters. Casting to ``np.float32``. Disable this by passing ``force_float=False``.\n",
      "  warnings.warn(\n"
     ]
    },
    {
     "data": {
      "text/plain": [
       "<gempy.plot.vista.GemPyToVista at 0x24429c52b50>"
      ]
     },
     "execution_count": 11,
     "metadata": {},
     "output_type": "execute_result"
    }
   ],
   "source": [
    "gp.plot_3d(geo_data)"
   ]
  },
  {
   "cell_type": "code",
   "execution_count": null,
   "id": "e49df7b8",
   "metadata": {},
   "outputs": [],
   "source": []
  }
 ],
 "metadata": {
  "kernelspec": {
   "display_name": "Python 3 (ipykernel)",
   "language": "python",
   "name": "python3"
  },
  "language_info": {
   "codemirror_mode": {
    "name": "ipython",
    "version": 3
   },
   "file_extension": ".py",
   "mimetype": "text/x-python",
   "name": "python",
   "nbconvert_exporter": "python",
   "pygments_lexer": "ipython3",
   "version": "3.9.12"
  }
 },
 "nbformat": 4,
 "nbformat_minor": 5
}
