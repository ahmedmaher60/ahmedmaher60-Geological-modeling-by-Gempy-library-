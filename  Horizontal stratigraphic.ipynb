{
 "cells": [
  {
   "cell_type": "code",
   "execution_count": 11,
   "id": "8039c2b8",
   "metadata": {},
   "outputs": [],
   "source": [
    "import gempy as gp\n",
    "\n",
    "import pandas as pd"
   ]
  },
  {
   "cell_type": "code",
   "execution_count": 12,
   "id": "d12db6b2",
   "metadata": {},
   "outputs": [
    {
     "name": "stdout",
     "output_type": "stream",
     "text": [
      "Active grids: ['regular']\n"
     ]
    }
   ],
   "source": [
    "data_path = 'https://raw.githubusercontent.com/cgre-aachen/gempy_data/master/'\n",
    "geo_data = gp.create_data('horizontal', extent=[0, 1000, 0, 1000, 0, 1000], resolution=[50, 50, 50],\n",
    "                          path_o=data_path + \"/data/input_data/jan_models/model1_orientations.csv\",\n",
    "                          path_i=data_path + \"/data/input_data/jan_models/model1_surface_points.csv\")"
   ]
  },
  {
   "cell_type": "code",
   "execution_count": 13,
   "id": "8d346cd2",
   "metadata": {},
   "outputs": [
    {
     "data": {
      "text/html": [
       "<style type=\"text/css\">\n",
       "#T_a7176_row0_col3 {\n",
       "  background-color: #015482;\n",
       "}\n",
       "#T_a7176_row1_col3 {\n",
       "  background-color: #9f0052;\n",
       "}\n",
       "#T_a7176_row2_col3 {\n",
       "  background-color: #ffbe00;\n",
       "}\n",
       "</style>\n",
       "<table id=\"T_a7176_\">\n",
       "  <thead>\n",
       "    <tr>\n",
       "      <th class=\"blank level0\" >&nbsp;</th>\n",
       "      <th class=\"col_heading level0 col0\" >surface</th>\n",
       "      <th class=\"col_heading level0 col1\" >series</th>\n",
       "      <th class=\"col_heading level0 col2\" >order_surfaces</th>\n",
       "      <th class=\"col_heading level0 col3\" >color</th>\n",
       "      <th class=\"col_heading level0 col4\" >id</th>\n",
       "    </tr>\n",
       "  </thead>\n",
       "  <tbody>\n",
       "    <tr>\n",
       "      <th id=\"T_a7176_level0_row0\" class=\"row_heading level0 row0\" >0</th>\n",
       "      <td id=\"T_a7176_row0_col0\" class=\"data row0 col0\" >rock2</td>\n",
       "      <td id=\"T_a7176_row0_col1\" class=\"data row0 col1\" >Strat_Series</td>\n",
       "      <td id=\"T_a7176_row0_col2\" class=\"data row0 col2\" >1</td>\n",
       "      <td id=\"T_a7176_row0_col3\" class=\"data row0 col3\" >#015482</td>\n",
       "      <td id=\"T_a7176_row0_col4\" class=\"data row0 col4\" >1</td>\n",
       "    </tr>\n",
       "    <tr>\n",
       "      <th id=\"T_a7176_level0_row1\" class=\"row_heading level0 row1\" >1</th>\n",
       "      <td id=\"T_a7176_row1_col0\" class=\"data row1 col0\" >rock1</td>\n",
       "      <td id=\"T_a7176_row1_col1\" class=\"data row1 col1\" >Strat_Series</td>\n",
       "      <td id=\"T_a7176_row1_col2\" class=\"data row1 col2\" >2</td>\n",
       "      <td id=\"T_a7176_row1_col3\" class=\"data row1 col3\" >#9f0052</td>\n",
       "      <td id=\"T_a7176_row1_col4\" class=\"data row1 col4\" >2</td>\n",
       "    </tr>\n",
       "    <tr>\n",
       "      <th id=\"T_a7176_level0_row2\" class=\"row_heading level0 row2\" >2</th>\n",
       "      <td id=\"T_a7176_row2_col0\" class=\"data row2 col0\" >basement</td>\n",
       "      <td id=\"T_a7176_row2_col1\" class=\"data row2 col1\" >Basement_Series</td>\n",
       "      <td id=\"T_a7176_row2_col2\" class=\"data row2 col2\" >1</td>\n",
       "      <td id=\"T_a7176_row2_col3\" class=\"data row2 col3\" >#ffbe00</td>\n",
       "      <td id=\"T_a7176_row2_col4\" class=\"data row2 col4\" >3</td>\n",
       "    </tr>\n",
       "  </tbody>\n",
       "</table>\n"
      ],
      "text/plain": [
       "    surface           series  order_surfaces    color  id\n",
       "0     rock2     Strat_Series               1  #015482   1\n",
       "1     rock1     Strat_Series               2  #9f0052   2\n",
       "2  basement  Basement_Series               1  #ffbe00   3"
      ]
     },
     "execution_count": 13,
     "metadata": {},
     "output_type": "execute_result"
    }
   ],
   "source": [
    "gp.map_stack_to_surfaces(geo_data, {\"Strat_Series\": ('rock2', 'rock1'), \"Basement_Series\": ('basement')})"
   ]
  },
  {
   "cell_type": "code",
   "execution_count": 14,
   "id": "6ebf22fa",
   "metadata": {},
   "outputs": [
    {
     "name": "stderr",
     "output_type": "stream",
     "text": [
      "C:\\Users\\AHMED\\anaconda3\\lib\\site-packages\\gempy\\plot\\plot_api.py:261: UserWarning: Matplotlib is currently using module://matplotlib_inline.backend_inline, which is a non-GUI backend, so cannot show the figure.\n",
      "  p.fig.show()\n"
     ]
    },
    {
     "data": {
      "text/plain": [
       "<gempy.plot.visualization_2d.Plot2D at 0x1d31a7144c0>"
      ]
     },
     "execution_count": 14,
     "metadata": {},
     "output_type": "execute_result"
    },
    {
     "data": {
      "image/png": "[encoded data removed]",
      "text/plain": [
       "<Figure size 748.8x514.8 with 1 Axes>"
      ]
     },
     "metadata": {},
     "output_type": "display_data"
    }
   ],
   "source": [
    "gp.plot_2d(geo_data, direction=['y'])"
   ]
  },
  {
   "cell_type": "code",
   "execution_count": 15,
   "id": "030bb7d3",
   "metadata": {},
   "outputs": [
    {
     "name": "stdout",
     "output_type": "stream",
     "text": [
      "Setting kriging parameters to their default values.\n",
      "Compiling theano function...\n",
      "Level of Optimization:  fast_compile\n",
      "Device:  cpu\n",
      "Precision:  float64\n",
      "Number of faults:  0\n",
      "Compilation Done!\n",
      "Kriging values: \n",
      "                        values\n",
      "range             1732.050808\n",
      "$C_o$            71428.571429\n",
      "drift equations        [3, 3]\n"
     ]
    }
   ],
   "source": [
    "interp_data = gp.set_interpolator(geo_data, compile_theano=True,\n",
    "                                  theano_optimizer='fast_compile')"
   ]
  },
  {
   "cell_type": "code",
   "execution_count": 16,
   "id": "413ef209",
   "metadata": {},
   "outputs": [],
   "source": [
    "sol = gp.compute_model(geo_data)"
   ]
  },
  {
   "cell_type": "code",
   "execution_count": 18,
   "id": "4a053481",
   "metadata": {},
   "outputs": [
    {
     "name": "stderr",
     "output_type": "stream",
     "text": [
      "C:\\Users\\AHMED\\anaconda3\\lib\\site-packages\\gempy\\plot\\plot_api.py:261: UserWarning: Matplotlib is currently using module://matplotlib_inline.backend_inline, which is a non-GUI backend, so cannot show the figure.\n",
      "  p.fig.show()\n"
     ]
    },
    {
     "data": {
      "text/plain": [
       "<gempy.plot.visualization_2d.Plot2D at 0x1d3a33d3a00>"
      ]
     },
     "execution_count": 18,
     "metadata": {},
     "output_type": "execute_result"
    },
    {
     "data": {
      "image/png": "[encoded data removed]",
      "text/plain": [
       "<Figure size 748.8x514.8 with 1 Axes>"
      ]
     },
     "metadata": {},
     "output_type": "display_data"
    }
   ],
   "source": [
    "gp.plot_2d(geo_data)"
   ]
  },
  {
   "cell_type": "code",
   "execution_count": 17,
   "id": "b1aede27",
   "metadata": {},
   "outputs": [
    {
     "name": "stderr",
     "output_type": "stream",
     "text": [
      "C:\\Users\\AHMED\\anaconda3\\lib\\site-packages\\pyvista\\plotting\\tools.py:571: PyvistaDeprecationWarning: The usage of `parse_color` is deprecated in favor of the new `Color` class.\n",
      "  warnings.warn(\n",
      "C:\\Users\\AHMED\\anaconda3\\lib\\site-packages\\pyvista\\utilities\\helpers.py:507: UserWarning: Points is not a float type. This can cause issues when transforming or applying filters. Casting to ``np.float32``. Disable this by passing ``force_float=False``.\n",
      "  warnings.warn(\n"
     ]
    },
    {
     "data": {
      "text/plain": [
       "<gempy.plot.vista.GemPyToVista at 0x1d3a3774b50>"
      ]
     },
     "execution_count": 17,
     "metadata": {},
     "output_type": "execute_result"
    }
   ],
   "source": [
    "gp.plot_3d(geo_data)"
   ]
  },
  {
   "cell_type": "code",
   "execution_count": null,
   "id": "3ec0f6a4",
   "metadata": {},
   "outputs": [],
   "source": []
  },
  {
   "cell_type": "code",
   "execution_count": null,
   "id": "13b88d4c",
   "metadata": {},
   "outputs": [],
   "source": []
  }
 ],
 "metadata": {
  "kernelspec": {
   "display_name": "Python 3 (ipykernel)",
   "language": "python",
   "name": "python3"
  },
  "language_info": {
   "codemirror_mode": {
    "name": "ipython",
    "version": 3
   },
   "file_extension": ".py",
   "mimetype": "text/x-python",
   "name": "python",
   "nbconvert_exporter": "python",
   "pygments_lexer": "ipython3",
   "version": "3.9.12"
  }
 },
 "nbformat": 4,
 "nbformat_minor": 5
}
