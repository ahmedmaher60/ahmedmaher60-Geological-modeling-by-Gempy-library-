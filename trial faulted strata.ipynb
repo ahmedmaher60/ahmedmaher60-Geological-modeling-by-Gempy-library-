{
 "cells": [
  {
   "cell_type": "code",
   "execution_count": 50,
   "id": "eff272ea",
   "metadata": {},
   "outputs": [],
   "source": [
    "import gempy as gp\n",
    "from gempy.assets import topology as tp\n",
    "\n",
    "import numpy as np\n",
    "import matplotlib.pyplot as plt\n",
    "\n",
    "import warnings\n",
    "warnings.filterwarnings(\"ignore\")"
   ]
  },
  {
   "cell_type": "code",
   "execution_count": 51,
   "id": "7b2f217e",
   "metadata": {},
   "outputs": [],
   "source": [
    "geo_model = gp.create_model('Tutorial_ch1_1_Basics')"
   ]
  },
  {
   "cell_type": "code",
   "execution_count": 52,
   "id": "76056179",
   "metadata": {},
   "outputs": [
    {
     "name": "stdout",
     "output_type": "stream",
     "text": [
      "Active grids: ['regular']\n"
     ]
    },
    {
     "data": {
      "text/plain": [
       "Tutorial_ch1_1_Basics  2022-08-31 14:11"
      ]
     },
     "execution_count": 52,
     "metadata": {},
     "output_type": "execute_result"
    }
   ],
   "source": [
    "data_path = 'https://raw.githubusercontent.com/cgre-aachen/gempy_data/master/'\n",
    "# Importing the data from CSV-files and setting extent and resolution\n",
    "gp.init_data(geo_model, [0, 2000., 0, 2000., 0, 750.], [50, 50, 50],\n",
    "             path_o=data_path + \"/data/input_data/getting_started/\"\n",
    "                                \"simple_fault_model_orientations.csv\",\n",
    "             path_i=data_path + \"/data/input_data/getting_started/\"\n",
    "                                \"simple_fault_model_points.csv\",\n",
    "             default_values=True)"
   ]
  },
  {
   "cell_type": "code",
   "execution_count": 53,
   "id": "f540b825",
   "metadata": {},
   "outputs": [
    {
     "data": {
      "text/html": [
       "<div>\n",
       "<style scoped>\n",
       "    .dataframe tbody tr th:only-of-type {\n",
       "        vertical-align: middle;\n",
       "    }\n",
       "\n",
       "    .dataframe tbody tr th {\n",
       "        vertical-align: top;\n",
       "    }\n",
       "\n",
       "    .dataframe thead th {\n",
       "        text-align: right;\n",
       "    }\n",
       "</style>\n",
       "<table border=\"1\" class=\"dataframe\">\n",
       "  <thead>\n",
       "    <tr style=\"text-align: right;\">\n",
       "      <th></th>\n",
       "      <th></th>\n",
       "      <th>X</th>\n",
       "      <th>Y</th>\n",
       "      <th>Z</th>\n",
       "      <th>smooth</th>\n",
       "      <th>surface</th>\n",
       "      <th>G_x</th>\n",
       "      <th>G_y</th>\n",
       "      <th>G_z</th>\n",
       "    </tr>\n",
       "  </thead>\n",
       "  <tbody>\n",
       "    <tr>\n",
       "      <th rowspan=\"57\" valign=\"top\">surface_points</th>\n",
       "      <th>0</th>\n",
       "      <td>1000</td>\n",
       "      <td>50</td>\n",
       "      <td>450.000000</td>\n",
       "      <td>0.000002</td>\n",
       "      <td>Shale</td>\n",
       "      <td>NaN</td>\n",
       "      <td>NaN</td>\n",
       "      <td>NaN</td>\n",
       "    </tr>\n",
       "    <tr>\n",
       "      <th>1</th>\n",
       "      <td>1000</td>\n",
       "      <td>150</td>\n",
       "      <td>433.333333</td>\n",
       "      <td>0.000002</td>\n",
       "      <td>Shale</td>\n",
       "      <td>NaN</td>\n",
       "      <td>NaN</td>\n",
       "      <td>NaN</td>\n",
       "    </tr>\n",
       "    <tr>\n",
       "      <th>2</th>\n",
       "      <td>1000</td>\n",
       "      <td>300</td>\n",
       "      <td>433.333333</td>\n",
       "      <td>0.000002</td>\n",
       "      <td>Shale</td>\n",
       "      <td>NaN</td>\n",
       "      <td>NaN</td>\n",
       "      <td>NaN</td>\n",
       "    </tr>\n",
       "    <tr>\n",
       "      <th>3</th>\n",
       "      <td>1000</td>\n",
       "      <td>500</td>\n",
       "      <td>466.666667</td>\n",
       "      <td>0.000002</td>\n",
       "      <td>Shale</td>\n",
       "      <td>NaN</td>\n",
       "      <td>NaN</td>\n",
       "      <td>NaN</td>\n",
       "    </tr>\n",
       "    <tr>\n",
       "      <th>4</th>\n",
       "      <td>1000</td>\n",
       "      <td>1000</td>\n",
       "      <td>533.333333</td>\n",
       "      <td>0.000002</td>\n",
       "      <td>Shale</td>\n",
       "      <td>NaN</td>\n",
       "      <td>NaN</td>\n",
       "      <td>NaN</td>\n",
       "    </tr>\n",
       "    <tr>\n",
       "      <th>5</th>\n",
       "      <td>1000</td>\n",
       "      <td>1500</td>\n",
       "      <td>433.333333</td>\n",
       "      <td>0.000002</td>\n",
       "      <td>Shale</td>\n",
       "      <td>NaN</td>\n",
       "      <td>NaN</td>\n",
       "      <td>NaN</td>\n",
       "    </tr>\n",
       "    <tr>\n",
       "      <th>6</th>\n",
       "      <td>1000</td>\n",
       "      <td>1700</td>\n",
       "      <td>400.000000</td>\n",
       "      <td>0.000002</td>\n",
       "      <td>Shale</td>\n",
       "      <td>NaN</td>\n",
       "      <td>NaN</td>\n",
       "      <td>NaN</td>\n",
       "    </tr>\n",
       "    <tr>\n",
       "      <th>7</th>\n",
       "      <td>1000</td>\n",
       "      <td>1950</td>\n",
       "      <td>416.666667</td>\n",
       "      <td>0.000002</td>\n",
       "      <td>Shale</td>\n",
       "      <td>NaN</td>\n",
       "      <td>NaN</td>\n",
       "      <td>NaN</td>\n",
       "    </tr>\n",
       "    <tr>\n",
       "      <th>8</th>\n",
       "      <td>0</td>\n",
       "      <td>1000</td>\n",
       "      <td>366.666667</td>\n",
       "      <td>0.000002</td>\n",
       "      <td>Shale</td>\n",
       "      <td>NaN</td>\n",
       "      <td>NaN</td>\n",
       "      <td>NaN</td>\n",
       "    </tr>\n",
       "    <tr>\n",
       "      <th>9</th>\n",
       "      <td>300</td>\n",
       "      <td>1000</td>\n",
       "      <td>333.333333</td>\n",
       "      <td>0.000002</td>\n",
       "      <td>Shale</td>\n",
       "      <td>NaN</td>\n",
       "      <td>NaN</td>\n",
       "      <td>NaN</td>\n",
       "    </tr>\n",
       "    <tr>\n",
       "      <th>10</th>\n",
       "      <td>450</td>\n",
       "      <td>1000</td>\n",
       "      <td>316.666667</td>\n",
       "      <td>0.000002</td>\n",
       "      <td>Shale</td>\n",
       "      <td>NaN</td>\n",
       "      <td>NaN</td>\n",
       "      <td>NaN</td>\n",
       "    </tr>\n",
       "    <tr>\n",
       "      <th>11</th>\n",
       "      <td>1300</td>\n",
       "      <td>1000</td>\n",
       "      <td>500.000000</td>\n",
       "      <td>0.000002</td>\n",
       "      <td>Shale</td>\n",
       "      <td>NaN</td>\n",
       "      <td>NaN</td>\n",
       "      <td>NaN</td>\n",
       "    </tr>\n",
       "    <tr>\n",
       "      <th>12</th>\n",
       "      <td>1600</td>\n",
       "      <td>1000</td>\n",
       "      <td>483.333333</td>\n",
       "      <td>0.000002</td>\n",
       "      <td>Shale</td>\n",
       "      <td>NaN</td>\n",
       "      <td>NaN</td>\n",
       "      <td>NaN</td>\n",
       "    </tr>\n",
       "    <tr>\n",
       "      <th>13</th>\n",
       "      <td>1900</td>\n",
       "      <td>1000</td>\n",
       "      <td>500.000000</td>\n",
       "      <td>0.000002</td>\n",
       "      <td>Shale</td>\n",
       "      <td>NaN</td>\n",
       "      <td>NaN</td>\n",
       "      <td>NaN</td>\n",
       "    </tr>\n",
       "    <tr>\n",
       "      <th>14</th>\n",
       "      <td>1700</td>\n",
       "      <td>500</td>\n",
       "      <td>466.666667</td>\n",
       "      <td>0.000002</td>\n",
       "      <td>Shale</td>\n",
       "      <td>NaN</td>\n",
       "      <td>NaN</td>\n",
       "      <td>NaN</td>\n",
       "    </tr>\n",
       "    <tr>\n",
       "      <th>15</th>\n",
       "      <td>1700</td>\n",
       "      <td>1500</td>\n",
       "      <td>450.000000</td>\n",
       "      <td>0.000002</td>\n",
       "      <td>Shale</td>\n",
       "      <td>NaN</td>\n",
       "      <td>NaN</td>\n",
       "      <td>NaN</td>\n",
       "    </tr>\n",
       "    <tr>\n",
       "      <th>16</th>\n",
       "      <td>1000</td>\n",
       "      <td>50</td>\n",
       "      <td>350.000000</td>\n",
       "      <td>0.000002</td>\n",
       "      <td>Sandstone_1</td>\n",
       "      <td>NaN</td>\n",
       "      <td>NaN</td>\n",
       "      <td>NaN</td>\n",
       "    </tr>\n",
       "    <tr>\n",
       "      <th>17</th>\n",
       "      <td>1000</td>\n",
       "      <td>150</td>\n",
       "      <td>333.333333</td>\n",
       "      <td>0.000002</td>\n",
       "      <td>Sandstone_1</td>\n",
       "      <td>NaN</td>\n",
       "      <td>NaN</td>\n",
       "      <td>NaN</td>\n",
       "    </tr>\n",
       "    <tr>\n",
       "      <th>18</th>\n",
       "      <td>1000</td>\n",
       "      <td>300</td>\n",
       "      <td>333.333333</td>\n",
       "      <td>0.000002</td>\n",
       "      <td>Sandstone_1</td>\n",
       "      <td>NaN</td>\n",
       "      <td>NaN</td>\n",
       "      <td>NaN</td>\n",
       "    </tr>\n",
       "    <tr>\n",
       "      <th>19</th>\n",
       "      <td>1000</td>\n",
       "      <td>500</td>\n",
       "      <td>366.666667</td>\n",
       "      <td>0.000002</td>\n",
       "      <td>Sandstone_1</td>\n",
       "      <td>NaN</td>\n",
       "      <td>NaN</td>\n",
       "      <td>NaN</td>\n",
       "    </tr>\n",
       "    <tr>\n",
       "      <th>20</th>\n",
       "      <td>1000</td>\n",
       "      <td>1000</td>\n",
       "      <td>433.333333</td>\n",
       "      <td>0.000002</td>\n",
       "      <td>Sandstone_1</td>\n",
       "      <td>NaN</td>\n",
       "      <td>NaN</td>\n",
       "      <td>NaN</td>\n",
       "    </tr>\n",
       "    <tr>\n",
       "      <th>21</th>\n",
       "      <td>1000</td>\n",
       "      <td>1500</td>\n",
       "      <td>333.333333</td>\n",
       "      <td>0.000002</td>\n",
       "      <td>Sandstone_1</td>\n",
       "      <td>NaN</td>\n",
       "      <td>NaN</td>\n",
       "      <td>NaN</td>\n",
       "    </tr>\n",
       "    <tr>\n",
       "      <th>22</th>\n",
       "      <td>1000</td>\n",
       "      <td>1700</td>\n",
       "      <td>300.000000</td>\n",
       "      <td>0.000002</td>\n",
       "      <td>Sandstone_1</td>\n",
       "      <td>NaN</td>\n",
       "      <td>NaN</td>\n",
       "      <td>NaN</td>\n",
       "    </tr>\n",
       "    <tr>\n",
       "      <th>23</th>\n",
       "      <td>1000</td>\n",
       "      <td>1950</td>\n",
       "      <td>316.666667</td>\n",
       "      <td>0.000002</td>\n",
       "      <td>Sandstone_1</td>\n",
       "      <td>NaN</td>\n",
       "      <td>NaN</td>\n",
       "      <td>NaN</td>\n",
       "    </tr>\n",
       "    <tr>\n",
       "      <th>24</th>\n",
       "      <td>0</td>\n",
       "      <td>1000</td>\n",
       "      <td>266.666667</td>\n",
       "      <td>0.000002</td>\n",
       "      <td>Sandstone_1</td>\n",
       "      <td>NaN</td>\n",
       "      <td>NaN</td>\n",
       "      <td>NaN</td>\n",
       "    </tr>\n",
       "    <tr>\n",
       "      <th>25</th>\n",
       "      <td>300</td>\n",
       "      <td>1000</td>\n",
       "      <td>233.333333</td>\n",
       "      <td>0.000002</td>\n",
       "      <td>Sandstone_1</td>\n",
       "      <td>NaN</td>\n",
       "      <td>NaN</td>\n",
       "      <td>NaN</td>\n",
       "    </tr>\n",
       "    <tr>\n",
       "      <th>26</th>\n",
       "      <td>1300</td>\n",
       "      <td>1000</td>\n",
       "      <td>400.000000</td>\n",
       "      <td>0.000002</td>\n",
       "      <td>Sandstone_1</td>\n",
       "      <td>NaN</td>\n",
       "      <td>NaN</td>\n",
       "      <td>NaN</td>\n",
       "    </tr>\n",
       "    <tr>\n",
       "      <th>27</th>\n",
       "      <td>1600</td>\n",
       "      <td>1000</td>\n",
       "      <td>383.333333</td>\n",
       "      <td>0.000002</td>\n",
       "      <td>Sandstone_1</td>\n",
       "      <td>NaN</td>\n",
       "      <td>NaN</td>\n",
       "      <td>NaN</td>\n",
       "    </tr>\n",
       "    <tr>\n",
       "      <th>28</th>\n",
       "      <td>1900</td>\n",
       "      <td>1000</td>\n",
       "      <td>400.000000</td>\n",
       "      <td>0.000002</td>\n",
       "      <td>Sandstone_1</td>\n",
       "      <td>NaN</td>\n",
       "      <td>NaN</td>\n",
       "      <td>NaN</td>\n",
       "    </tr>\n",
       "    <tr>\n",
       "      <th>29</th>\n",
       "      <td>1700</td>\n",
       "      <td>500</td>\n",
       "      <td>366.666667</td>\n",
       "      <td>0.000002</td>\n",
       "      <td>Sandstone_1</td>\n",
       "      <td>NaN</td>\n",
       "      <td>NaN</td>\n",
       "      <td>NaN</td>\n",
       "    </tr>\n",
       "    <tr>\n",
       "      <th>30</th>\n",
       "      <td>1700</td>\n",
       "      <td>1500</td>\n",
       "      <td>350.000000</td>\n",
       "      <td>0.000002</td>\n",
       "      <td>Sandstone_1</td>\n",
       "      <td>NaN</td>\n",
       "      <td>NaN</td>\n",
       "      <td>NaN</td>\n",
       "    </tr>\n",
       "    <tr>\n",
       "      <th>31</th>\n",
       "      <td>1100</td>\n",
       "      <td>150</td>\n",
       "      <td>506.666667</td>\n",
       "      <td>0.000002</td>\n",
       "      <td>Siltstone</td>\n",
       "      <td>NaN</td>\n",
       "      <td>NaN</td>\n",
       "      <td>NaN</td>\n",
       "    </tr>\n",
       "    <tr>\n",
       "      <th>32</th>\n",
       "      <td>1100</td>\n",
       "      <td>300</td>\n",
       "      <td>506.666667</td>\n",
       "      <td>0.000002</td>\n",
       "      <td>Siltstone</td>\n",
       "      <td>NaN</td>\n",
       "      <td>NaN</td>\n",
       "      <td>NaN</td>\n",
       "    </tr>\n",
       "    <tr>\n",
       "      <th>33</th>\n",
       "      <td>1100</td>\n",
       "      <td>1500</td>\n",
       "      <td>506.666667</td>\n",
       "      <td>0.000002</td>\n",
       "      <td>Siltstone</td>\n",
       "      <td>NaN</td>\n",
       "      <td>NaN</td>\n",
       "      <td>NaN</td>\n",
       "    </tr>\n",
       "    <tr>\n",
       "      <th>34</th>\n",
       "      <td>1100</td>\n",
       "      <td>1700</td>\n",
       "      <td>473.333333</td>\n",
       "      <td>0.000002</td>\n",
       "      <td>Siltstone</td>\n",
       "      <td>NaN</td>\n",
       "      <td>NaN</td>\n",
       "      <td>NaN</td>\n",
       "    </tr>\n",
       "    <tr>\n",
       "      <th>35</th>\n",
       "      <td>1100</td>\n",
       "      <td>1950</td>\n",
       "      <td>490.000000</td>\n",
       "      <td>0.000002</td>\n",
       "      <td>Siltstone</td>\n",
       "      <td>NaN</td>\n",
       "      <td>NaN</td>\n",
       "      <td>NaN</td>\n",
       "    </tr>\n",
       "    <tr>\n",
       "      <th>36</th>\n",
       "      <td>0</td>\n",
       "      <td>1000</td>\n",
       "      <td>433.333333</td>\n",
       "      <td>0.000002</td>\n",
       "      <td>Siltstone</td>\n",
       "      <td>NaN</td>\n",
       "      <td>NaN</td>\n",
       "      <td>NaN</td>\n",
       "    </tr>\n",
       "    <tr>\n",
       "      <th>37</th>\n",
       "      <td>300</td>\n",
       "      <td>1000</td>\n",
       "      <td>400.000000</td>\n",
       "      <td>0.000002</td>\n",
       "      <td>Siltstone</td>\n",
       "      <td>NaN</td>\n",
       "      <td>NaN</td>\n",
       "      <td>NaN</td>\n",
       "    </tr>\n",
       "    <tr>\n",
       "      <th>38</th>\n",
       "      <td>600</td>\n",
       "      <td>1000</td>\n",
       "      <td>366.666667</td>\n",
       "      <td>0.000002</td>\n",
       "      <td>Siltstone</td>\n",
       "      <td>NaN</td>\n",
       "      <td>NaN</td>\n",
       "      <td>NaN</td>\n",
       "    </tr>\n",
       "    <tr>\n",
       "      <th>39</th>\n",
       "      <td>1300</td>\n",
       "      <td>1000</td>\n",
       "      <td>566.666667</td>\n",
       "      <td>0.000002</td>\n",
       "      <td>Siltstone</td>\n",
       "      <td>NaN</td>\n",
       "      <td>NaN</td>\n",
       "      <td>NaN</td>\n",
       "    </tr>\n",
       "    <tr>\n",
       "      <th>40</th>\n",
       "      <td>1600</td>\n",
       "      <td>1000</td>\n",
       "      <td>550.000000</td>\n",
       "      <td>0.000002</td>\n",
       "      <td>Siltstone</td>\n",
       "      <td>NaN</td>\n",
       "      <td>NaN</td>\n",
       "      <td>NaN</td>\n",
       "    </tr>\n",
       "    <tr>\n",
       "      <th>41</th>\n",
       "      <td>1900</td>\n",
       "      <td>1000</td>\n",
       "      <td>566.666667</td>\n",
       "      <td>0.000002</td>\n",
       "      <td>Siltstone</td>\n",
       "      <td>NaN</td>\n",
       "      <td>NaN</td>\n",
       "      <td>NaN</td>\n",
       "    </tr>\n",
       "    <tr>\n",
       "      <th>42</th>\n",
       "      <td>1700</td>\n",
       "      <td>500</td>\n",
       "      <td>533.333333</td>\n",
       "      <td>0.000002</td>\n",
       "      <td>Siltstone</td>\n",
       "      <td>NaN</td>\n",
       "      <td>NaN</td>\n",
       "      <td>NaN</td>\n",
       "    </tr>\n",
       "    <tr>\n",
       "      <th>43</th>\n",
       "      <td>1700</td>\n",
       "      <td>1500</td>\n",
       "      <td>516.666667</td>\n",
       "      <td>0.000002</td>\n",
       "      <td>Siltstone</td>\n",
       "      <td>NaN</td>\n",
       "      <td>NaN</td>\n",
       "      <td>NaN</td>\n",
       "    </tr>\n",
       "    <tr>\n",
       "      <th>44</th>\n",
       "      <td>0</td>\n",
       "      <td>1000</td>\n",
       "      <td>500.000000</td>\n",
       "      <td>0.000002</td>\n",
       "      <td>Sandstone_2</td>\n",
       "      <td>NaN</td>\n",
       "      <td>NaN</td>\n",
       "      <td>NaN</td>\n",
       "    </tr>\n",
       "    <tr>\n",
       "      <th>45</th>\n",
       "      <td>300</td>\n",
       "      <td>1000</td>\n",
       "      <td>466.666667</td>\n",
       "      <td>0.000002</td>\n",
       "      <td>Sandstone_2</td>\n",
       "      <td>NaN</td>\n",
       "      <td>NaN</td>\n",
       "      <td>NaN</td>\n",
       "    </tr>\n",
       "    <tr>\n",
       "      <th>46</th>\n",
       "      <td>600</td>\n",
       "      <td>1000</td>\n",
       "      <td>433.333333</td>\n",
       "      <td>0.000002</td>\n",
       "      <td>Sandstone_2</td>\n",
       "      <td>NaN</td>\n",
       "      <td>NaN</td>\n",
       "      <td>NaN</td>\n",
       "    </tr>\n",
       "    <tr>\n",
       "      <th>47</th>\n",
       "      <td>1300</td>\n",
       "      <td>1000</td>\n",
       "      <td>633.333333</td>\n",
       "      <td>0.000002</td>\n",
       "      <td>Sandstone_2</td>\n",
       "      <td>NaN</td>\n",
       "      <td>NaN</td>\n",
       "      <td>NaN</td>\n",
       "    </tr>\n",
       "    <tr>\n",
       "      <th>48</th>\n",
       "      <td>1600</td>\n",
       "      <td>1000</td>\n",
       "      <td>616.666667</td>\n",
       "      <td>0.000002</td>\n",
       "      <td>Sandstone_2</td>\n",
       "      <td>NaN</td>\n",
       "      <td>NaN</td>\n",
       "      <td>NaN</td>\n",
       "    </tr>\n",
       "    <tr>\n",
       "      <th>49</th>\n",
       "      <td>1900</td>\n",
       "      <td>1000</td>\n",
       "      <td>633.333333</td>\n",
       "      <td>0.000002</td>\n",
       "      <td>Sandstone_2</td>\n",
       "      <td>NaN</td>\n",
       "      <td>NaN</td>\n",
       "      <td>NaN</td>\n",
       "    </tr>\n",
       "    <tr>\n",
       "      <th>50</th>\n",
       "      <td>1700</td>\n",
       "      <td>500</td>\n",
       "      <td>600.000000</td>\n",
       "      <td>0.000002</td>\n",
       "      <td>Sandstone_2</td>\n",
       "      <td>NaN</td>\n",
       "      <td>NaN</td>\n",
       "      <td>NaN</td>\n",
       "    </tr>\n",
       "    <tr>\n",
       "      <th>51</th>\n",
       "      <td>1700</td>\n",
       "      <td>1500</td>\n",
       "      <td>583.333333</td>\n",
       "      <td>0.000002</td>\n",
       "      <td>Sandstone_2</td>\n",
       "      <td>NaN</td>\n",
       "      <td>NaN</td>\n",
       "      <td>NaN</td>\n",
       "    </tr>\n",
       "    <tr>\n",
       "      <th>52</th>\n",
       "      <td>700</td>\n",
       "      <td>1000</td>\n",
       "      <td>300.000000</td>\n",
       "      <td>0.000002</td>\n",
       "      <td>Main_Fault</td>\n",
       "      <td>NaN</td>\n",
       "      <td>NaN</td>\n",
       "      <td>NaN</td>\n",
       "    </tr>\n",
       "    <tr>\n",
       "      <th>53</th>\n",
       "      <td>600</td>\n",
       "      <td>1000</td>\n",
       "      <td>200.000000</td>\n",
       "      <td>0.000002</td>\n",
       "      <td>Main_Fault</td>\n",
       "      <td>NaN</td>\n",
       "      <td>NaN</td>\n",
       "      <td>NaN</td>\n",
       "    </tr>\n",
       "    <tr>\n",
       "      <th>54</th>\n",
       "      <td>500</td>\n",
       "      <td>1000</td>\n",
       "      <td>100.000000</td>\n",
       "      <td>0.000002</td>\n",
       "      <td>Main_Fault</td>\n",
       "      <td>NaN</td>\n",
       "      <td>NaN</td>\n",
       "      <td>NaN</td>\n",
       "    </tr>\n",
       "    <tr>\n",
       "      <th>55</th>\n",
       "      <td>1000</td>\n",
       "      <td>1000</td>\n",
       "      <td>600.000000</td>\n",
       "      <td>0.000002</td>\n",
       "      <td>Main_Fault</td>\n",
       "      <td>NaN</td>\n",
       "      <td>NaN</td>\n",
       "      <td>NaN</td>\n",
       "    </tr>\n",
       "    <tr>\n",
       "      <th>56</th>\n",
       "      <td>1100</td>\n",
       "      <td>1000</td>\n",
       "      <td>700.000000</td>\n",
       "      <td>0.000002</td>\n",
       "      <td>Main_Fault</td>\n",
       "      <td>NaN</td>\n",
       "      <td>NaN</td>\n",
       "      <td>NaN</td>\n",
       "    </tr>\n",
       "    <tr>\n",
       "      <th rowspan=\"3\" valign=\"top\">orientations</th>\n",
       "      <th>0</th>\n",
       "      <td>1000</td>\n",
       "      <td>1000</td>\n",
       "      <td>300.000000</td>\n",
       "      <td>0.010000</td>\n",
       "      <td>Shale</td>\n",
       "      <td>0.316229</td>\n",
       "      <td>1.000019e-12</td>\n",
       "      <td>0.948683</td>\n",
       "    </tr>\n",
       "    <tr>\n",
       "      <th>1</th>\n",
       "      <td>400</td>\n",
       "      <td>1000</td>\n",
       "      <td>420.000000</td>\n",
       "      <td>0.010000</td>\n",
       "      <td>Sandstone_2</td>\n",
       "      <td>0.316229</td>\n",
       "      <td>1.000019e-12</td>\n",
       "      <td>0.948683</td>\n",
       "    </tr>\n",
       "    <tr>\n",
       "      <th>2</th>\n",
       "      <td>500</td>\n",
       "      <td>1000</td>\n",
       "      <td>300.000000</td>\n",
       "      <td>0.010000</td>\n",
       "      <td>Main_Fault</td>\n",
       "      <td>-0.948683</td>\n",
       "      <td>9.998257e-13</td>\n",
       "      <td>0.316229</td>\n",
       "    </tr>\n",
       "  </tbody>\n",
       "</table>\n",
       "</div>"
      ],
      "text/plain": [
       "                      X     Y           Z    smooth      surface       G_x  \\\n",
       "surface_points 0   1000    50  450.000000  0.000002        Shale       NaN   \n",
       "               1   1000   150  433.333333  0.000002        Shale       NaN   \n",
       "               2   1000   300  433.333333  0.000002        Shale       NaN   \n",
       "               3   1000   500  466.666667  0.000002        Shale       NaN   \n",
       "               4   1000  1000  533.333333  0.000002        Shale       NaN   \n",
       "               5   1000  1500  433.333333  0.000002        Shale       NaN   \n",
       "               6   1000  1700  400.000000  0.000002        Shale       NaN   \n",
       "               7   1000  1950  416.666667  0.000002        Shale       NaN   \n",
       "               8      0  1000  366.666667  0.000002        Shale       NaN   \n",
       "               9    300  1000  333.333333  0.000002        Shale       NaN   \n",
       "               10   450  1000  316.666667  0.000002        Shale       NaN   \n",
       "               11  1300  1000  500.000000  0.000002        Shale       NaN   \n",
       "               12  1600  1000  483.333333  0.000002        Shale       NaN   \n",
       "               13  1900  1000  500.000000  0.000002        Shale       NaN   \n",
       "               14  1700   500  466.666667  0.000002        Shale       NaN   \n",
       "               15  1700  1500  450.000000  0.000002        Shale       NaN   \n",
       "               16  1000    50  350.000000  0.000002  Sandstone_1       NaN   \n",
       "               17  1000   150  333.333333  0.000002  Sandstone_1       NaN   \n",
       "               18  1000   300  333.333333  0.000002  Sandstone_1       NaN   \n",
       "               19  1000   500  366.666667  0.000002  Sandstone_1       NaN   \n",
       "               20  1000  1000  433.333333  0.000002  Sandstone_1       NaN   \n",
       "               21  1000  1500  333.333333  0.000002  Sandstone_1       NaN   \n",
       "               22  1000  1700  300.000000  0.000002  Sandstone_1       NaN   \n",
       "               23  1000  1950  316.666667  0.000002  Sandstone_1       NaN   \n",
       "               24     0  1000  266.666667  0.000002  Sandstone_1       NaN   \n",
       "               25   300  1000  233.333333  0.000002  Sandstone_1       NaN   \n",
       "               26  1300  1000  400.000000  0.000002  Sandstone_1       NaN   \n",
       "               27  1600  1000  383.333333  0.000002  Sandstone_1       NaN   \n",
       "               28  1900  1000  400.000000  0.000002  Sandstone_1       NaN   \n",
       "               29  1700   500  366.666667  0.000002  Sandstone_1       NaN   \n",
       "               30  1700  1500  350.000000  0.000002  Sandstone_1       NaN   \n",
       "               31  1100   150  506.666667  0.000002    Siltstone       NaN   \n",
       "               32  1100   300  506.666667  0.000002    Siltstone       NaN   \n",
       "               33  1100  1500  506.666667  0.000002    Siltstone       NaN   \n",
       "               34  1100  1700  473.333333  0.000002    Siltstone       NaN   \n",
       "               35  1100  1950  490.000000  0.000002    Siltstone       NaN   \n",
       "               36     0  1000  433.333333  0.000002    Siltstone       NaN   \n",
       "               37   300  1000  400.000000  0.000002    Siltstone       NaN   \n",
       "               38   600  1000  366.666667  0.000002    Siltstone       NaN   \n",
       "               39  1300  1000  566.666667  0.000002    Siltstone       NaN   \n",
       "               40  1600  1000  550.000000  0.000002    Siltstone       NaN   \n",
       "               41  1900  1000  566.666667  0.000002    Siltstone       NaN   \n",
       "               42  1700   500  533.333333  0.000002    Siltstone       NaN   \n",
       "               43  1700  1500  516.666667  0.000002    Siltstone       NaN   \n",
       "               44     0  1000  500.000000  0.000002  Sandstone_2       NaN   \n",
       "               45   300  1000  466.666667  0.000002  Sandstone_2       NaN   \n",
       "               46   600  1000  433.333333  0.000002  Sandstone_2       NaN   \n",
       "               47  1300  1000  633.333333  0.000002  Sandstone_2       NaN   \n",
       "               48  1600  1000  616.666667  0.000002  Sandstone_2       NaN   \n",
       "               49  1900  1000  633.333333  0.000002  Sandstone_2       NaN   \n",
       "               50  1700   500  600.000000  0.000002  Sandstone_2       NaN   \n",
       "               51  1700  1500  583.333333  0.000002  Sandstone_2       NaN   \n",
       "               52   700  1000  300.000000  0.000002   Main_Fault       NaN   \n",
       "               53   600  1000  200.000000  0.000002   Main_Fault       NaN   \n",
       "               54   500  1000  100.000000  0.000002   Main_Fault       NaN   \n",
       "               55  1000  1000  600.000000  0.000002   Main_Fault       NaN   \n",
       "               56  1100  1000  700.000000  0.000002   Main_Fault       NaN   \n",
       "orientations   0   1000  1000  300.000000  0.010000        Shale  0.316229   \n",
       "               1    400  1000  420.000000  0.010000  Sandstone_2  0.316229   \n",
       "               2    500  1000  300.000000  0.010000   Main_Fault -0.948683   \n",
       "\n",
       "                            G_y       G_z  \n",
       "surface_points 0            NaN       NaN  \n",
       "               1            NaN       NaN  \n",
       "               2            NaN       NaN  \n",
       "               3            NaN       NaN  \n",
       "               4            NaN       NaN  \n",
       "               5            NaN       NaN  \n",
       "               6            NaN       NaN  \n",
       "               7            NaN       NaN  \n",
       "               8            NaN       NaN  \n",
       "               9            NaN       NaN  \n",
       "               10           NaN       NaN  \n",
       "               11           NaN       NaN  \n",
       "               12           NaN       NaN  \n",
       "               13           NaN       NaN  \n",
       "               14           NaN       NaN  \n",
       "               15           NaN       NaN  \n",
       "               16           NaN       NaN  \n",
       "               17           NaN       NaN  \n",
       "               18           NaN       NaN  \n",
       "               19           NaN       NaN  \n",
       "               20           NaN       NaN  \n",
       "               21           NaN       NaN  \n",
       "               22           NaN       NaN  \n",
       "               23           NaN       NaN  \n",
       "               24           NaN       NaN  \n",
       "               25           NaN       NaN  \n",
       "               26           NaN       NaN  \n",
       "               27           NaN       NaN  \n",
       "               28           NaN       NaN  \n",
       "               29           NaN       NaN  \n",
       "               30           NaN       NaN  \n",
       "               31           NaN       NaN  \n",
       "               32           NaN       NaN  \n",
       "               33           NaN       NaN  \n",
       "               34           NaN       NaN  \n",
       "               35           NaN       NaN  \n",
       "               36           NaN       NaN  \n",
       "               37           NaN       NaN  \n",
       "               38           NaN       NaN  \n",
       "               39           NaN       NaN  \n",
       "               40           NaN       NaN  \n",
       "               41           NaN       NaN  \n",
       "               42           NaN       NaN  \n",
       "               43           NaN       NaN  \n",
       "               44           NaN       NaN  \n",
       "               45           NaN       NaN  \n",
       "               46           NaN       NaN  \n",
       "               47           NaN       NaN  \n",
       "               48           NaN       NaN  \n",
       "               49           NaN       NaN  \n",
       "               50           NaN       NaN  \n",
       "               51           NaN       NaN  \n",
       "               52           NaN       NaN  \n",
       "               53           NaN       NaN  \n",
       "               54           NaN       NaN  \n",
       "               55           NaN       NaN  \n",
       "               56           NaN       NaN  \n",
       "orientations   0   1.000019e-12  0.948683  \n",
       "               1   1.000019e-12  0.948683  \n",
       "               2   9.998257e-13  0.316229  "
      ]
     },
     "execution_count": 53,
     "metadata": {},
     "output_type": "execute_result"
    }
   ],
   "source": [
    "geo_model.get_data()"
   ]
  },
  {
   "cell_type": "code",
   "execution_count": 54,
   "id": "24c5accc",
   "metadata": {},
   "outputs": [
    {
     "data": {
      "text/html": [
       "<style type=\"text/css\">\n",
       "#T_446ea_row0_col3 {\n",
       "  background-color: #443988;\n",
       "}\n",
       "#T_446ea_row1_col3 {\n",
       "  background-color: #015482;\n",
       "}\n",
       "#T_446ea_row2_col3 {\n",
       "  background-color: #9f0052;\n",
       "}\n",
       "#T_446ea_row3_col3 {\n",
       "  background-color: #ffbe00;\n",
       "}\n",
       "#T_446ea_row4_col3 {\n",
       "  background-color: #728f02;\n",
       "}\n",
       "#T_446ea_row5_col3 {\n",
       "  background-color: #ff3f20;\n",
       "}\n",
       "</style>\n",
       "<table id=\"T_446ea_\">\n",
       "  <thead>\n",
       "    <tr>\n",
       "      <th class=\"blank level0\" >&nbsp;</th>\n",
       "      <th class=\"col_heading level0 col0\" >surface</th>\n",
       "      <th class=\"col_heading level0 col1\" >series</th>\n",
       "      <th class=\"col_heading level0 col2\" >order_surfaces</th>\n",
       "      <th class=\"col_heading level0 col3\" >color</th>\n",
       "      <th class=\"col_heading level0 col4\" >id</th>\n",
       "    </tr>\n",
       "  </thead>\n",
       "  <tbody>\n",
       "    <tr>\n",
       "      <th id=\"T_446ea_level0_row0\" class=\"row_heading level0 row0\" >4</th>\n",
       "      <td id=\"T_446ea_row0_col0\" class=\"data row0 col0\" >Main_Fault</td>\n",
       "      <td id=\"T_446ea_row0_col1\" class=\"data row0 col1\" >Fault_Series</td>\n",
       "      <td id=\"T_446ea_row0_col2\" class=\"data row0 col2\" >1</td>\n",
       "      <td id=\"T_446ea_row0_col3\" class=\"data row0 col3\" >#443988</td>\n",
       "      <td id=\"T_446ea_row0_col4\" class=\"data row0 col4\" >1</td>\n",
       "    </tr>\n",
       "    <tr>\n",
       "      <th id=\"T_446ea_level0_row1\" class=\"row_heading level0 row1\" >0</th>\n",
       "      <td id=\"T_446ea_row1_col0\" class=\"data row1 col0\" >Shale</td>\n",
       "      <td id=\"T_446ea_row1_col1\" class=\"data row1 col1\" >Strat_Series</td>\n",
       "      <td id=\"T_446ea_row1_col2\" class=\"data row1 col2\" >1</td>\n",
       "      <td id=\"T_446ea_row1_col3\" class=\"data row1 col3\" >#015482</td>\n",
       "      <td id=\"T_446ea_row1_col4\" class=\"data row1 col4\" >2</td>\n",
       "    </tr>\n",
       "    <tr>\n",
       "      <th id=\"T_446ea_level0_row2\" class=\"row_heading level0 row2\" >1</th>\n",
       "      <td id=\"T_446ea_row2_col0\" class=\"data row2 col0\" >Sandstone_1</td>\n",
       "      <td id=\"T_446ea_row2_col1\" class=\"data row2 col1\" >Strat_Series</td>\n",
       "      <td id=\"T_446ea_row2_col2\" class=\"data row2 col2\" >2</td>\n",
       "      <td id=\"T_446ea_row2_col3\" class=\"data row2 col3\" >#9f0052</td>\n",
       "      <td id=\"T_446ea_row2_col4\" class=\"data row2 col4\" >3</td>\n",
       "    </tr>\n",
       "    <tr>\n",
       "      <th id=\"T_446ea_level0_row3\" class=\"row_heading level0 row3\" >2</th>\n",
       "      <td id=\"T_446ea_row3_col0\" class=\"data row3 col0\" >Siltstone</td>\n",
       "      <td id=\"T_446ea_row3_col1\" class=\"data row3 col1\" >Strat_Series</td>\n",
       "      <td id=\"T_446ea_row3_col2\" class=\"data row3 col2\" >3</td>\n",
       "      <td id=\"T_446ea_row3_col3\" class=\"data row3 col3\" >#ffbe00</td>\n",
       "      <td id=\"T_446ea_row3_col4\" class=\"data row3 col4\" >4</td>\n",
       "    </tr>\n",
       "    <tr>\n",
       "      <th id=\"T_446ea_level0_row4\" class=\"row_heading level0 row4\" >3</th>\n",
       "      <td id=\"T_446ea_row4_col0\" class=\"data row4 col0\" >Sandstone_2</td>\n",
       "      <td id=\"T_446ea_row4_col1\" class=\"data row4 col1\" >Strat_Series</td>\n",
       "      <td id=\"T_446ea_row4_col2\" class=\"data row4 col2\" >4</td>\n",
       "      <td id=\"T_446ea_row4_col3\" class=\"data row4 col3\" >#728f02</td>\n",
       "      <td id=\"T_446ea_row4_col4\" class=\"data row4 col4\" >5</td>\n",
       "    </tr>\n",
       "    <tr>\n",
       "      <th id=\"T_446ea_level0_row5\" class=\"row_heading level0 row5\" >5</th>\n",
       "      <td id=\"T_446ea_row5_col0\" class=\"data row5 col0\" >basement</td>\n",
       "      <td id=\"T_446ea_row5_col1\" class=\"data row5 col1\" >Strat_Series</td>\n",
       "      <td id=\"T_446ea_row5_col2\" class=\"data row5 col2\" >5</td>\n",
       "      <td id=\"T_446ea_row5_col3\" class=\"data row5 col3\" >#ff3f20</td>\n",
       "      <td id=\"T_446ea_row5_col4\" class=\"data row5 col4\" >6</td>\n",
       "    </tr>\n",
       "  </tbody>\n",
       "</table>\n"
      ],
      "text/plain": [
       "       surface        series  order_surfaces    color  id\n",
       "4   Main_Fault  Fault_Series               1  #443988   1\n",
       "0        Shale  Strat_Series               1  #015482   2\n",
       "1  Sandstone_1  Strat_Series               2  #9f0052   3\n",
       "2    Siltstone  Strat_Series               3  #ffbe00   4\n",
       "3  Sandstone_2  Strat_Series               4  #728f02   5\n",
       "5     basement  Strat_Series               5  #ff3f20   6"
      ]
     },
     "execution_count": 54,
     "metadata": {},
     "output_type": "execute_result"
    }
   ],
   "source": [
    "gp.map_stack_to_surfaces(geo_model,\n",
    "                         {\"Fault_Series\": 'Main_Fault',\n",
    "                          \"Strat_Series\": ('Sandstone_2', 'Siltstone',\n",
    "                                           'Shale', 'Sandstone_1', 'basement')},\n",
    "                         remove_unused_series=True)"
   ]
  },
  {
   "cell_type": "code",
   "execution_count": 55,
   "id": "28df62af",
   "metadata": {},
   "outputs": [
    {
     "data": {
      "text/html": [
       "<table border=\"1\" class=\"dataframe\">\n",
       "  <thead>\n",
       "    <tr style=\"text-align: right;\">\n",
       "      <th></th>\n",
       "      <th>order_series</th>\n",
       "      <th>BottomRelation</th>\n",
       "      <th>isActive</th>\n",
       "      <th>isFault</th>\n",
       "      <th>isFinite</th>\n",
       "    </tr>\n",
       "  </thead>\n",
       "  <tbody>\n",
       "    <tr>\n",
       "      <th>Fault_Series</th>\n",
       "      <td>1</td>\n",
       "      <td>Erosion</td>\n",
       "      <td>True</td>\n",
       "      <td>False</td>\n",
       "      <td>False</td>\n",
       "    </tr>\n",
       "    <tr>\n",
       "      <th>Strat_Series</th>\n",
       "      <td>2</td>\n",
       "      <td>Erosion</td>\n",
       "      <td>True</td>\n",
       "      <td>False</td>\n",
       "      <td>False</td>\n",
       "    </tr>\n",
       "  </tbody>\n",
       "</table>"
      ],
      "text/plain": [
       "              order_series BottomRelation  isActive  isFault  isFinite\n",
       "Fault_Series             1        Erosion      True    False     False\n",
       "Strat_Series             2        Erosion      True    False     False"
      ]
     },
     "execution_count": 55,
     "metadata": {},
     "output_type": "execute_result"
    }
   ],
   "source": [
    "geo_model.stack"
   ]
  },
  {
   "cell_type": "code",
   "execution_count": 56,
   "id": "9a56653e",
   "metadata": {},
   "outputs": [
    {
     "name": "stdout",
     "output_type": "stream",
     "text": [
      "Fault colors changed. If you do not like this behavior, set change_color to False.\n"
     ]
    },
    {
     "data": {
      "text/html": [
       "<div>\n",
       "<style scoped>\n",
       "    .dataframe tbody tr th:only-of-type {\n",
       "        vertical-align: middle;\n",
       "    }\n",
       "\n",
       "    .dataframe tbody tr th {\n",
       "        vertical-align: top;\n",
       "    }\n",
       "\n",
       "    .dataframe thead th {\n",
       "        text-align: right;\n",
       "    }\n",
       "</style>\n",
       "<table border=\"1\" class=\"dataframe\">\n",
       "  <thead>\n",
       "    <tr style=\"text-align: right;\">\n",
       "      <th></th>\n",
       "      <th>Fault_Series</th>\n",
       "      <th>Strat_Series</th>\n",
       "    </tr>\n",
       "  </thead>\n",
       "  <tbody>\n",
       "    <tr>\n",
       "      <th>Fault_Series</th>\n",
       "      <td>False</td>\n",
       "      <td>True</td>\n",
       "    </tr>\n",
       "    <tr>\n",
       "      <th>Strat_Series</th>\n",
       "      <td>False</td>\n",
       "      <td>False</td>\n",
       "    </tr>\n",
       "  </tbody>\n",
       "</table>\n",
       "</div>"
      ],
      "text/plain": [
       "              Fault_Series  Strat_Series\n",
       "Fault_Series         False          True\n",
       "Strat_Series         False         False"
      ]
     },
     "execution_count": 56,
     "metadata": {},
     "output_type": "execute_result"
    }
   ],
   "source": [
    "geo_model.set_is_fault(['Fault_Series'])\n",
    "geo_model.faults.faults_relations_df"
   ]
  },
  {
   "cell_type": "code",
   "execution_count": 57,
   "id": "20501ba4",
   "metadata": {},
   "outputs": [
    {
     "data": {
      "text/html": [
       "<table border=\"1\" class=\"dataframe\">\n",
       "  <thead>\n",
       "    <tr style=\"text-align: right;\">\n",
       "      <th></th>\n",
       "      <th>order_series</th>\n",
       "      <th>BottomRelation</th>\n",
       "      <th>isActive</th>\n",
       "      <th>isFault</th>\n",
       "      <th>isFinite</th>\n",
       "    </tr>\n",
       "  </thead>\n",
       "  <tbody>\n",
       "    <tr>\n",
       "      <th>Fault_Series</th>\n",
       "      <td>1</td>\n",
       "      <td>Fault</td>\n",
       "      <td>True</td>\n",
       "      <td>True</td>\n",
       "      <td>False</td>\n",
       "    </tr>\n",
       "    <tr>\n",
       "      <th>Strat_Series</th>\n",
       "      <td>2</td>\n",
       "      <td>Erosion</td>\n",
       "      <td>True</td>\n",
       "      <td>False</td>\n",
       "      <td>False</td>\n",
       "    </tr>\n",
       "  </tbody>\n",
       "</table>"
      ],
      "text/plain": [
       "              order_series BottomRelation  isActive  isFault  isFinite\n",
       "Fault_Series             1          Fault      True     True     False\n",
       "Strat_Series             2        Erosion      True    False     False"
      ]
     },
     "execution_count": 57,
     "metadata": {},
     "output_type": "execute_result"
    }
   ],
   "source": [
    "geo_model.faults"
   ]
  },
  {
   "cell_type": "code",
   "execution_count": 58,
   "id": "77d2bd12",
   "metadata": {},
   "outputs": [
    {
     "data": {
      "text/html": [
       "<div>\n",
       "<style scoped>\n",
       "    .dataframe tbody tr th:only-of-type {\n",
       "        vertical-align: middle;\n",
       "    }\n",
       "\n",
       "    .dataframe tbody tr th {\n",
       "        vertical-align: top;\n",
       "    }\n",
       "\n",
       "    .dataframe thead th {\n",
       "        text-align: right;\n",
       "    }\n",
       "</style>\n",
       "<table border=\"1\" class=\"dataframe\">\n",
       "  <thead>\n",
       "    <tr style=\"text-align: right;\">\n",
       "      <th></th>\n",
       "      <th>Fault_Series</th>\n",
       "      <th>Strat_Series</th>\n",
       "    </tr>\n",
       "  </thead>\n",
       "  <tbody>\n",
       "    <tr>\n",
       "      <th>Fault_Series</th>\n",
       "      <td>False</td>\n",
       "      <td>True</td>\n",
       "    </tr>\n",
       "    <tr>\n",
       "      <th>Strat_Series</th>\n",
       "      <td>False</td>\n",
       "      <td>False</td>\n",
       "    </tr>\n",
       "  </tbody>\n",
       "</table>\n",
       "</div>"
      ],
      "text/plain": [
       "              Fault_Series  Strat_Series\n",
       "Fault_Series         False          True\n",
       "Strat_Series         False         False"
      ]
     },
     "execution_count": 58,
     "metadata": {},
     "output_type": "execute_result"
    }
   ],
   "source": [
    "geo_model.faults.faults_relations_df"
   ]
  },
  {
   "cell_type": "code",
   "execution_count": 59,
   "id": "88c06f77",
   "metadata": {},
   "outputs": [
    {
     "data": {
      "text/plain": [
       "Grid Object. Values: \n",
       "array([[  20. ,   20. ,    7.5],\n",
       "       [  20. ,   20. ,   22.5],\n",
       "       [  20. ,   20. ,   37.5],\n",
       "       ...,\n",
       "       [1980. , 1980. ,  712.5],\n",
       "       [1980. , 1980. ,  727.5],\n",
       "       [1980. , 1980. ,  742.5]])"
      ]
     },
     "execution_count": 59,
     "metadata": {},
     "output_type": "execute_result"
    }
   ],
   "source": [
    "geo_model.grid"
   ]
  },
  {
   "cell_type": "code",
   "execution_count": 60,
   "id": "f256ef49",
   "metadata": {},
   "outputs": [
    {
     "name": "stdout",
     "output_type": "stream",
     "text": [
      "Setting kriging parameters to their default values.\n",
      "Compiling theano function...\n",
      "Level of Optimization:  fast_compile\n",
      "Device:  cpu\n",
      "Precision:  float64\n",
      "Number of faults:  1\n",
      "Compilation Done!\n",
      "Kriging values: \n",
      "                         values\n",
      "range              2926.174978\n",
      "$C_o$            203869.047619\n",
      "drift equations         [3, 3]\n"
     ]
    },
    {
     "data": {
      "text/plain": [
       "<gempy.core.interpolator.InterpolatorModel at 0x22b8ed06e20>"
      ]
     },
     "execution_count": 60,
     "metadata": {},
     "output_type": "execute_result"
    }
   ],
   "source": [
    "gp.set_interpolator(geo_model,\n",
    "                    compile_theano=True,\n",
    "                    theano_optimizer='fast_compile',\n",
    "                    )"
   ]
  },
  {
   "cell_type": "code",
   "execution_count": 61,
   "id": "c9e57abe",
   "metadata": {},
   "outputs": [
    {
     "data": {
      "text/html": [
       "<table border=\"1\" class=\"dataframe\">\n",
       "  <thead>\n",
       "    <tr style=\"text-align: right;\">\n",
       "      <th></th>\n",
       "      <th>values</th>\n",
       "    </tr>\n",
       "  </thead>\n",
       "  <tbody>\n",
       "    <tr>\n",
       "      <th>range</th>\n",
       "      <td>2926.174978</td>\n",
       "    </tr>\n",
       "    <tr>\n",
       "      <th>$C_o$</th>\n",
       "      <td>203869.047619</td>\n",
       "    </tr>\n",
       "    <tr>\n",
       "      <th>drift equations</th>\n",
       "      <td>[3, 3]</td>\n",
       "    </tr>\n",
       "  </tbody>\n",
       "</table>"
      ],
      "text/plain": [
       "                        values\n",
       "range              2926.174978\n",
       "$C_o$            203869.047619\n",
       "drift equations         [3, 3]"
      ]
     },
     "execution_count": 61,
     "metadata": {},
     "output_type": "execute_result"
    }
   ],
   "source": [
    "gp.get_data(geo_model, 'kriging')"
   ]
  },
  {
   "cell_type": "code",
   "execution_count": 62,
   "id": "dd32c97c",
   "metadata": {},
   "outputs": [],
   "source": [
    "sol = gp.compute_model(geo_model)"
   ]
  },
  {
   "cell_type": "code",
   "execution_count": 63,
   "id": "947d8557",
   "metadata": {},
   "outputs": [
    {
     "data": {
      "image/png": "[encoded data removed]",
      "text/plain": [
       "<Figure size 748.8x514.8 with 1 Axes>"
      ]
     },
     "metadata": {},
     "output_type": "display_data"
    }
   ],
   "source": [
    "gp.plot_2d(geo_model, show_data=True)\n",
    "plt.show()"
   ]
  },
  {
   "cell_type": "code",
   "execution_count": 64,
   "id": "d7c795d3",
   "metadata": {},
   "outputs": [],
   "source": [
    "edges, centroids = tp.compute_topology(geo_model)"
   ]
  },
  {
   "cell_type": "code",
   "execution_count": 65,
   "id": "60fa39de",
   "metadata": {},
   "outputs": [
    {
     "data": {
      "text/plain": [
       "{(1, 2), (1, 3), (1, 4), (1, 5), (2, 3), (2, 5), (3, 4), (3, 5), (4, 5)}"
      ]
     },
     "execution_count": 65,
     "metadata": {},
     "output_type": "execute_result"
    }
   ],
   "source": [
    "edges"
   ]
  },
  {
   "cell_type": "code",
   "execution_count": 66,
   "id": "cd737635",
   "metadata": {},
   "outputs": [
    {
     "data": {
      "text/plain": [
       "{1: array([19.59982026, 25.0286342 , 40.0263125 ]),\n",
       " 2: array([25.17945109, 24.59032874, 31.92319292]),\n",
       " 3: array([25.41815961, 24.53094463, 28.00142508]),\n",
       " 4: array([25.69517906, 24.55702479, 23.10089532]),\n",
       " 5: array([27.72107715, 24.04185422, 10.48556819])}"
      ]
     },
     "execution_count": 66,
     "metadata": {},
     "output_type": "execute_result"
    }
   ],
   "source": [
    "centroids"
   ]
  },
  {
   "cell_type": "code",
   "execution_count": 67,
   "id": "702edbdb",
   "metadata": {},
   "outputs": [
    {
     "data": {
      "image/png": "[encoded data removed]",
      "text/plain": [
       "<Figure size 748.8x514.8 with 1 Axes>"
      ]
     },
     "metadata": {},
     "output_type": "display_data"
    }
   ],
   "source": [
    "gp.plot.plot_topology(geo_model, edges, centroids)\n",
    "plt.show()"
   ]
  },
  {
   "cell_type": "code",
   "execution_count": 68,
   "id": "2dbe5477",
   "metadata": {},
   "outputs": [
    {
     "data": {
      "image/png": "[encoded data removed]",
      "text/plain": [
       "<Figure size 748.8x514.8 with 1 Axes>"
      ]
     },
     "metadata": {},
     "output_type": "display_data"
    }
   ],
   "source": [
    "gp.plot_2d(geo_model, cell_number=[5], show=False)\n",
    "gp.plot.plot_topology(geo_model, edges, centroids, scale=True)\n",
    "plt.show()"
   ]
  },
  {
   "cell_type": "code",
   "execution_count": 69,
   "id": "488a99b3",
   "metadata": {},
   "outputs": [
    {
     "name": "stdout",
     "output_type": "stream",
     "text": [
      "[[False False False False False False False False False False]\n",
      " [False False False False False False False False False False]\n",
      " [False False False False False False False False False False]\n",
      " [False False False False False False False False False False]\n",
      " [False False False False False False False False False False]\n",
      " [False False False False False  True  True False False  True]\n",
      " [False False False False False  True  True False False  True]\n",
      " [False False False False False False False False False False]\n",
      " [False False False False False False False False False False]\n",
      " [False False False False False  True  True False False False]]\n"
     ]
    }
   ],
   "source": [
    "M = tp.get_adjacency_matrix(geo_model, edges, centroids)\n",
    "print(M)"
   ]
  },
  {
   "cell_type": "code",
   "execution_count": 70,
   "id": "8e15c828",
   "metadata": {},
   "outputs": [
    {
     "data": {
      "image/png": "[encoded data removed]",
      "text/plain": [
       "<Figure size 288x288 with 2 Axes>"
      ]
     },
     "metadata": {},
     "output_type": "display_data"
    }
   ],
   "source": [
    "tp.plot_adjacency_matrix(geo_model, M)\n"
   ]
  },
  {
   "cell_type": "code",
   "execution_count": 71,
   "id": "1da958c3",
   "metadata": {},
   "outputs": [
    {
     "name": "stdout",
     "output_type": "stream",
     "text": [
      "surface\n",
      "Main_Fault     #527682\n",
      "Sandstone_2    #728f02\n",
      "Siltstone      #ffbe00\n",
      "Shale          #015482\n",
      "Sandstone_1    #9f0052\n",
      "basement       #ff3f20\n",
      "Name: color, dtype: object\n"
     ]
    },
    {
     "data": {
      "image/png": "[encoded data removed]",
      "text/plain": [
       "<PIL.Image.Image image mode=RGB size=1024x768 at 0x22B95035A90>"
      ]
     },
     "metadata": {},
     "output_type": "display_data"
    }
   ],
   "source": [
    "from gempy.plot._vista import Vista\n",
    "gpv = Vista(geo_model)\n",
    "gpv.plot_topology(edges, centroids)\n",
    "gpv.show()"
   ]
  },
  {
   "cell_type": "code",
   "execution_count": 72,
   "id": "0053c306",
   "metadata": {},
   "outputs": [
    {
     "data": {
      "text/plain": [
       "{1: 2, 2: 5, 3: 5, 4: 6, 5: 6}"
      ]
     },
     "execution_count": 72,
     "metadata": {},
     "output_type": "execute_result"
    }
   ],
   "source": [
    "lith_lot = tp.get_lot_node_to_lith_id(geo_model, centroids)\n",
    "lith_lot"
   ]
  },
  {
   "cell_type": "code",
   "execution_count": 73,
   "id": "f12e48c8",
   "metadata": {},
   "outputs": [
    {
     "data": {
      "text/plain": [
       "{1: 0, 2: 0, 3: 0, 4: 0, 5: 0}"
      ]
     },
     "execution_count": 73,
     "metadata": {},
     "output_type": "execute_result"
    }
   ],
   "source": [
    "fault_lot = tp.get_lot_node_to_fault_block(geo_model, centroids)\n",
    "fault_lot"
   ]
  },
  {
   "cell_type": "code",
   "execution_count": 1,
   "id": "569585c5",
   "metadata": {},
   "outputs": [
    {
     "ename": "NameError",
     "evalue": "name 'tp' is not defined",
     "output_type": "error",
     "traceback": [
      "\u001b[1;31m---------------------------------------------------------------------------\u001b[0m",
      "\u001b[1;31mNameError\u001b[0m                                 Traceback (most recent call last)",
      "Input \u001b[1;32mIn [1]\u001b[0m, in \u001b[0;36m<cell line: 1>\u001b[1;34m()\u001b[0m\n\u001b[1;32m----> 1\u001b[0m \u001b[43mtp\u001b[49m\u001b[38;5;241m.\u001b[39mget_lot_lith_to_node_id(lith_lot)\n",
      "\u001b[1;31mNameError\u001b[0m: name 'tp' is not defined"
     ]
    }
   ],
   "source": [
    "tp.get_lot_lith_to_node_id(lith_lot)"
   ]
  },
  {
   "cell_type": "code",
   "execution_count": 305,
   "id": "6a940d58",
   "metadata": {},
   "outputs": [],
   "source": [
    "# Importing GemPy\n",
    "import gempy as gp\n",
    "\n",
    "# Importing aux libraries\n",
    "import numpy as np\n",
    "import matplotlib.pyplot as pl"
   ]
  },
  {
   "cell_type": "code",
   "execution_count": 306,
   "id": "a7c76acf",
   "metadata": {},
   "outputs": [],
   "source": [
    "geo_model = gp.create_model('Model1')"
   ]
  },
  {
   "cell_type": "code",
   "execution_count": 307,
   "id": "0edacde0",
   "metadata": {},
   "outputs": [
    {
     "name": "stdout",
     "output_type": "stream",
     "text": [
      "Active grids: ['regular']\n"
     ]
    }
   ],
   "source": [
    "geo_model = gp.init_data(geo_model, extent=[0, 1000, 0, 200, -800, 0], resolution=[100, 10, 100])"
   ]
  },
  {
   "cell_type": "code",
   "execution_count": 308,
   "id": "1d4a6fea",
   "metadata": {},
   "outputs": [
    {
     "name": "stdout",
     "output_type": "stream",
     "text": [
      "Setting kriging parameters to their default values.\n",
      "Compiling theano function...\n",
      "Level of Optimization:  fast_compile\n",
      "Device:  cpu\n",
      "Precision:  float64\n",
      "Number of faults:  0\n",
      "Compilation Done!\n",
      "Kriging values: \n",
      "                      values\n",
      "range            1296.14814\n",
      "$C_o$               40000.0\n",
      "drift equations         [3]\n"
     ]
    },
    {
     "data": {
      "text/plain": [
       "<gempy.core.interpolator.InterpolatorModel at 0x20777316820>"
      ]
     },
     "execution_count": 308,
     "metadata": {},
     "output_type": "execute_result"
    }
   ],
   "source": [
    "gp.set_interpolator(geo_model, theano_optimizer='fast_compile', verbose=[]) ## to help in computing and gathering all data ##"
   ]
  },
  {
   "cell_type": "code",
   "execution_count": 309,
   "id": "7dad1906",
   "metadata": {},
   "outputs": [
    {
     "data": {
      "text/html": [
       "<style type=\"text/css\">\n",
       "#T_7abb1_row0_col3 {\n",
       "  background-color: #015482;\n",
       "}\n",
       "#T_7abb1_row1_col3 {\n",
       "  background-color: #9f0052;\n",
       "}\n",
       "</style>\n",
       "<table id=\"T_7abb1_\">\n",
       "  <thead>\n",
       "    <tr>\n",
       "      <th class=\"blank level0\" >&nbsp;</th>\n",
       "      <th class=\"col_heading level0 col0\" >surface</th>\n",
       "      <th class=\"col_heading level0 col1\" >series</th>\n",
       "      <th class=\"col_heading level0 col2\" >order_surfaces</th>\n",
       "      <th class=\"col_heading level0 col3\" >color</th>\n",
       "      <th class=\"col_heading level0 col4\" >id</th>\n",
       "    </tr>\n",
       "  </thead>\n",
       "  <tbody>\n",
       "    <tr>\n",
       "      <th id=\"T_7abb1_level0_row0\" class=\"row_heading level0 row0\" >0</th>\n",
       "      <td id=\"T_7abb1_row0_col0\" class=\"data row0 col0\" >surface1</td>\n",
       "      <td id=\"T_7abb1_row0_col1\" class=\"data row0 col1\" >Default series</td>\n",
       "      <td id=\"T_7abb1_row0_col2\" class=\"data row0 col2\" >1</td>\n",
       "      <td id=\"T_7abb1_row0_col3\" class=\"data row0 col3\" >#015482</td>\n",
       "      <td id=\"T_7abb1_row0_col4\" class=\"data row0 col4\" >1</td>\n",
       "    </tr>\n",
       "    <tr>\n",
       "      <th id=\"T_7abb1_level0_row1\" class=\"row_heading level0 row1\" >1</th>\n",
       "      <td id=\"T_7abb1_row1_col0\" class=\"data row1 col0\" >surface2</td>\n",
       "      <td id=\"T_7abb1_row1_col1\" class=\"data row1 col1\" >Default series</td>\n",
       "      <td id=\"T_7abb1_row1_col2\" class=\"data row1 col2\" >2</td>\n",
       "      <td id=\"T_7abb1_row1_col3\" class=\"data row1 col3\" >#9f0052</td>\n",
       "      <td id=\"T_7abb1_row1_col4\" class=\"data row1 col4\" >2</td>\n",
       "    </tr>\n",
       "  </tbody>\n",
       "</table>\n"
      ],
      "text/plain": [
       "    surface          series  order_surfaces    color  id\n",
       "0  surface1  Default series               1  #015482   1\n",
       "1  surface2  Default series               2  #9f0052   2"
      ]
     },
     "execution_count": 309,
     "metadata": {},
     "output_type": "execute_result"
    }
   ],
   "source": [
    "geo_model.set_default_surfaces()"
   ]
  },
  {
   "cell_type": "code",
   "execution_count": 310,
   "id": "5eb68b81",
   "metadata": {},
   "outputs": [
    {
     "data": {
      "text/html": [
       "<table border=\"1\" class=\"dataframe\">\n",
       "  <thead>\n",
       "    <tr style=\"text-align: right;\">\n",
       "      <th></th>\n",
       "      <th>X</th>\n",
       "      <th>Y</th>\n",
       "      <th>Z</th>\n",
       "      <th>G_x</th>\n",
       "      <th>G_y</th>\n",
       "      <th>G_z</th>\n",
       "      <th>smooth</th>\n",
       "      <th>surface</th>\n",
       "    </tr>\n",
       "  </thead>\n",
       "  <tbody>\n",
       "    <tr>\n",
       "      <th>0</th>\n",
       "      <td>350.0</td>\n",
       "      <td>0.0</td>\n",
       "      <td>-300.0</td>\n",
       "      <td>0.0</td>\n",
       "      <td>0.0</td>\n",
       "      <td>1.0</td>\n",
       "      <td>0.01</td>\n",
       "      <td>surface1</td>\n",
       "    </tr>\n",
       "  </tbody>\n",
       "</table>"
      ],
      "text/plain": [
       "       X    Y      Z  G_x  G_y  G_z  smooth   surface\n",
       "0  350.0  0.0 -300.0  0.0  0.0  1.0    0.01  surface1"
      ]
     },
     "execution_count": 310,
     "metadata": {},
     "output_type": "execute_result"
    }
   ],
   "source": [
    "geo_model.add_surface_points(X=500, Y=0.01, Z=-100, surface='surface1') \n",
    "geo_model.add_surface_points(X=700, Y=0.01, Z=-100, surface='surface1') \n",
    "geo_model.add_surface_points(X=200, Y=0.01, Z=-300, surface='surface1') \n",
    "geo_model.add_surface_points(X=0, Y=0.01, Z=-500, surface='surface1')\n",
    "geo_model.add_surface_points(X=800, Y=0.01, Z=-300, surface='surface1') \n",
    "geo_model.add_surface_points(X=1000, Y=0.01, Z=-500, surface='surface1') \n",
    "geo_model.add_orientations(X=350, Y=0, Z=-300, surface='surface1', pole_vector=(0, 0, 1))"
   ]
  },
  {
   "cell_type": "code",
   "execution_count": 311,
   "id": "bf5a2b0c",
   "metadata": {},
   "outputs": [
    {
     "name": "stderr",
     "output_type": "stream",
     "text": [
      "C:\\Users\\AHMED\\anaconda3\\lib\\site-packages\\gempy\\plot\\plot_api.py:261: UserWarning: Matplotlib is currently using module://matplotlib_inline.backend_inline, which is a non-GUI backend, so cannot show the figure.\n",
      "  p.fig.show()\n"
     ]
    },
    {
     "data": {
      "text/plain": [
       "<gempy.plot.visualization_2d.Plot2D at 0x2069142bd00>"
      ]
     },
     "execution_count": 311,
     "metadata": {},
     "output_type": "execute_result"
    },
    {
     "data": {
      "image/png": "[encoded data removed]",
      "text/plain": [
       "<Figure size 748.8x514.8 with 1 Axes>"
      ]
     },
     "metadata": {},
     "output_type": "display_data"
    }
   ],
   "source": [
    "gp.plot_2d(geo_model, cell_number=11)"
   ]
  },
  {
   "cell_type": "code",
   "execution_count": 312,
   "id": "93803b50",
   "metadata": {},
   "outputs": [
    {
     "data": {
      "text/plain": [
       "\n",
       "Lithology ids \n",
       "  [2. 2. 2. ... 1. 1. 1.] "
      ]
     },
     "execution_count": 312,
     "metadata": {},
     "output_type": "execute_result"
    }
   ],
   "source": [
    "gp.compute_model(geo_model)"
   ]
  },
  {
   "cell_type": "code",
   "execution_count": 313,
   "id": "9304b4e4",
   "metadata": {},
   "outputs": [
    {
     "data": {
      "text/html": [
       "<table border=\"1\" class=\"dataframe\">\n",
       "  <thead>\n",
       "    <tr style=\"text-align: right;\">\n",
       "      <th></th>\n",
       "      <th>values</th>\n",
       "    </tr>\n",
       "  </thead>\n",
       "  <tbody>\n",
       "    <tr>\n",
       "      <th>range</th>\n",
       "      <td>1296.14814</td>\n",
       "    </tr>\n",
       "    <tr>\n",
       "      <th>$C_o$</th>\n",
       "      <td>40000.0</td>\n",
       "    </tr>\n",
       "    <tr>\n",
       "      <th>drift equations</th>\n",
       "      <td>[3]</td>\n",
       "    </tr>\n",
       "  </tbody>\n",
       "</table>"
      ],
      "text/plain": [
       "                     values\n",
       "range            1296.14814\n",
       "$C_o$               40000.0\n",
       "drift equations         [3]"
      ]
     },
     "execution_count": 313,
     "metadata": {},
     "output_type": "execute_result"
    }
   ],
   "source": [
    "geo_model.additional_data.kriging_data"
   ]
  },
  {
   "cell_type": "code",
   "execution_count": 314,
   "id": "d04d1b4c",
   "metadata": {},
   "outputs": [
    {
     "data": {
      "text/html": [
       "<table border=\"1\" class=\"dataframe\">\n",
       "  <thead>\n",
       "    <tr style=\"text-align: right;\">\n",
       "      <th></th>\n",
       "      <th>values</th>\n",
       "    </tr>\n",
       "  </thead>\n",
       "  <tbody>\n",
       "    <tr>\n",
       "      <th>rescaling factor</th>\n",
       "      <td>2000.0</td>\n",
       "    </tr>\n",
       "    <tr>\n",
       "      <th>centers</th>\n",
       "      <td>[500.0, 0.005, -300.0]</td>\n",
       "    </tr>\n",
       "  </tbody>\n",
       "</table>"
      ],
      "text/plain": [
       "                                  values\n",
       "rescaling factor                  2000.0\n",
       "centers           [500.0, 0.005, -300.0]"
      ]
     },
     "execution_count": 314,
     "metadata": {},
     "output_type": "execute_result"
    }
   ],
   "source": [
    "geo_model.additional_data.rescaling_data"
   ]
  },
  {
   "cell_type": "code",
   "execution_count": 315,
   "id": "332553b2",
   "metadata": {},
   "outputs": [
    {
     "name": "stderr",
     "output_type": "stream",
     "text": [
      "C:\\Users\\AHMED\\anaconda3\\lib\\site-packages\\gempy\\plot\\plot_api.py:261: UserWarning: Matplotlib is currently using module://matplotlib_inline.backend_inline, which is a non-GUI backend, so cannot show the figure.\n",
      "  p.fig.show()\n"
     ]
    },
    {
     "data": {
      "text/plain": [
       "<gempy.plot.visualization_2d.Plot2D at 0x2068353b6d0>"
      ]
     },
     "execution_count": 315,
     "metadata": {},
     "output_type": "execute_result"
    },
    {
     "data": {
      "image/png": "[encoded data removed]",
      "text/plain": [
       "<Figure size 748.8x514.8 with 1 Axes>"
      ]
     },
     "metadata": {},
     "output_type": "display_data"
    }
   ],
   "source": [
    "gp.plot_2d(geo_model, cell_number=[5])"
   ]
  },
  {
   "cell_type": "code",
   "execution_count": 316,
   "id": "59d79c92",
   "metadata": {},
   "outputs": [
    {
     "data": {
      "text/html": [
       "<style type=\"text/css\">\n",
       "#T_7c1d9_row0_col3 {\n",
       "  background-color: #015482;\n",
       "}\n",
       "#T_7c1d9_row1_col3 {\n",
       "  background-color: #9f0052;\n",
       "}\n",
       "#T_7c1d9_row2_col3 {\n",
       "  background-color: #ffbe00;\n",
       "}\n",
       "#T_7c1d9_row3_col3 {\n",
       "  background-color: #728f02;\n",
       "}\n",
       "</style>\n",
       "<table id=\"T_7c1d9_\">\n",
       "  <thead>\n",
       "    <tr>\n",
       "      <th class=\"blank level0\" >&nbsp;</th>\n",
       "      <th class=\"col_heading level0 col0\" >surface</th>\n",
       "      <th class=\"col_heading level0 col1\" >series</th>\n",
       "      <th class=\"col_heading level0 col2\" >order_surfaces</th>\n",
       "      <th class=\"col_heading level0 col3\" >color</th>\n",
       "      <th class=\"col_heading level0 col4\" >id</th>\n",
       "    </tr>\n",
       "  </thead>\n",
       "  <tbody>\n",
       "    <tr>\n",
       "      <th id=\"T_7c1d9_level0_row0\" class=\"row_heading level0 row0\" >0</th>\n",
       "      <td id=\"T_7c1d9_row0_col0\" class=\"data row0 col0\" >surface1</td>\n",
       "      <td id=\"T_7c1d9_row0_col1\" class=\"data row0 col1\" >Default series</td>\n",
       "      <td id=\"T_7c1d9_row0_col2\" class=\"data row0 col2\" >1</td>\n",
       "      <td id=\"T_7c1d9_row0_col3\" class=\"data row0 col3\" >#015482</td>\n",
       "      <td id=\"T_7c1d9_row0_col4\" class=\"data row0 col4\" >1</td>\n",
       "    </tr>\n",
       "    <tr>\n",
       "      <th id=\"T_7c1d9_level0_row1\" class=\"row_heading level0 row1\" >1</th>\n",
       "      <td id=\"T_7c1d9_row1_col0\" class=\"data row1 col0\" >surface2</td>\n",
       "      <td id=\"T_7c1d9_row1_col1\" class=\"data row1 col1\" >Default series</td>\n",
       "      <td id=\"T_7c1d9_row1_col2\" class=\"data row1 col2\" >2</td>\n",
       "      <td id=\"T_7c1d9_row1_col3\" class=\"data row1 col3\" >#9f0052</td>\n",
       "      <td id=\"T_7c1d9_row1_col4\" class=\"data row1 col4\" >2</td>\n",
       "    </tr>\n",
       "    <tr>\n",
       "      <th id=\"T_7c1d9_level0_row2\" class=\"row_heading level0 row2\" >2</th>\n",
       "      <td id=\"T_7c1d9_row2_col0\" class=\"data row2 col0\" >surface3</td>\n",
       "      <td id=\"T_7c1d9_row2_col1\" class=\"data row2 col1\" >Default series</td>\n",
       "      <td id=\"T_7c1d9_row2_col2\" class=\"data row2 col2\" >3</td>\n",
       "      <td id=\"T_7c1d9_row2_col3\" class=\"data row2 col3\" >#ffbe00</td>\n",
       "      <td id=\"T_7c1d9_row2_col4\" class=\"data row2 col4\" >3</td>\n",
       "    </tr>\n",
       "    <tr>\n",
       "      <th id=\"T_7c1d9_level0_row3\" class=\"row_heading level0 row3\" >3</th>\n",
       "      <td id=\"T_7c1d9_row3_col0\" class=\"data row3 col0\" >basement</td>\n",
       "      <td id=\"T_7c1d9_row3_col1\" class=\"data row3 col1\" >Default series</td>\n",
       "      <td id=\"T_7c1d9_row3_col2\" class=\"data row3 col2\" >4</td>\n",
       "      <td id=\"T_7c1d9_row3_col3\" class=\"data row3 col3\" >#728f02</td>\n",
       "      <td id=\"T_7c1d9_row3_col4\" class=\"data row3 col4\" >4</td>\n",
       "    </tr>\n",
       "  </tbody>\n",
       "</table>\n"
      ],
      "text/plain": [
       "    surface          series  order_surfaces    color  id\n",
       "0  surface1  Default series               1  #015482   1\n",
       "1  surface2  Default series               2  #9f0052   2\n",
       "2  surface3  Default series               3  #ffbe00   3\n",
       "3  basement  Default series               4  #728f02   4"
      ]
     },
     "execution_count": 316,
     "metadata": {},
     "output_type": "execute_result"
    }
   ],
   "source": [
    "geo_model.add_surfaces(['surface3', 'basement'])"
   ]
  },
  {
   "cell_type": "code",
   "execution_count": 317,
   "id": "4d506ef9",
   "metadata": {},
   "outputs": [
    {
     "data": {
      "text/html": [
       "<table border=\"1\" class=\"dataframe\">\n",
       "  <thead>\n",
       "    <tr style=\"text-align: right;\">\n",
       "      <th></th>\n",
       "      <th>X</th>\n",
       "      <th>Y</th>\n",
       "      <th>Z</th>\n",
       "      <th>smooth</th>\n",
       "      <th>surface</th>\n",
       "    </tr>\n",
       "  </thead>\n",
       "  <tbody>\n",
       "    <tr>\n",
       "      <th>0</th>\n",
       "      <td>500.0</td>\n",
       "      <td>0.01</td>\n",
       "      <td>-100.0</td>\n",
       "      <td>0.000001</td>\n",
       "      <td>surface1</td>\n",
       "    </tr>\n",
       "    <tr>\n",
       "      <th>1</th>\n",
       "      <td>700.0</td>\n",
       "      <td>0.01</td>\n",
       "      <td>-100.0</td>\n",
       "      <td>0.000001</td>\n",
       "      <td>surface1</td>\n",
       "    </tr>\n",
       "    <tr>\n",
       "      <th>2</th>\n",
       "      <td>200.0</td>\n",
       "      <td>0.01</td>\n",
       "      <td>-300.0</td>\n",
       "      <td>0.000001</td>\n",
       "      <td>surface1</td>\n",
       "    </tr>\n",
       "    <tr>\n",
       "      <th>3</th>\n",
       "      <td>0.0</td>\n",
       "      <td>0.01</td>\n",
       "      <td>-500.0</td>\n",
       "      <td>0.000001</td>\n",
       "      <td>surface1</td>\n",
       "    </tr>\n",
       "    <tr>\n",
       "      <th>4</th>\n",
       "      <td>800.0</td>\n",
       "      <td>0.01</td>\n",
       "      <td>-300.0</td>\n",
       "      <td>0.000001</td>\n",
       "      <td>surface1</td>\n",
       "    </tr>\n",
       "    <tr>\n",
       "      <th>5</th>\n",
       "      <td>1000.0</td>\n",
       "      <td>0.01</td>\n",
       "      <td>-500.0</td>\n",
       "      <td>0.000001</td>\n",
       "      <td>surface1</td>\n",
       "    </tr>\n",
       "    <tr>\n",
       "      <th>6</th>\n",
       "      <td>500.0</td>\n",
       "      <td>0.01</td>\n",
       "      <td>-400.0</td>\n",
       "      <td>0.000001</td>\n",
       "      <td>surface2</td>\n",
       "    </tr>\n",
       "    <tr>\n",
       "      <th>7</th>\n",
       "      <td>200.0</td>\n",
       "      <td>0.01</td>\n",
       "      <td>500.0</td>\n",
       "      <td>0.000001</td>\n",
       "      <td>surface2</td>\n",
       "    </tr>\n",
       "    <tr>\n",
       "      <th>8</th>\n",
       "      <td>0.0</td>\n",
       "      <td>0.01</td>\n",
       "      <td>-700.0</td>\n",
       "      <td>0.000001</td>\n",
       "      <td>surface2</td>\n",
       "    </tr>\n",
       "    <tr>\n",
       "      <th>9</th>\n",
       "      <td>800.0</td>\n",
       "      <td>0.01</td>\n",
       "      <td>-500.0</td>\n",
       "      <td>0.000001</td>\n",
       "      <td>surface2</td>\n",
       "    </tr>\n",
       "    <tr>\n",
       "      <th>10</th>\n",
       "      <td>1000.0</td>\n",
       "      <td>0.01</td>\n",
       "      <td>-700.0</td>\n",
       "      <td>0.000001</td>\n",
       "      <td>surface2</td>\n",
       "    </tr>\n",
       "  </tbody>\n",
       "</table>"
      ],
      "text/plain": [
       "         X     Y      Z    smooth   surface\n",
       "0    500.0  0.01 -100.0  0.000001  surface1\n",
       "1    700.0  0.01 -100.0  0.000001  surface1\n",
       "2    200.0  0.01 -300.0  0.000001  surface1\n",
       "3      0.0  0.01 -500.0  0.000001  surface1\n",
       "4    800.0  0.01 -300.0  0.000001  surface1\n",
       "5   1000.0  0.01 -500.0  0.000001  surface1\n",
       "6    500.0  0.01 -400.0  0.000001  surface2\n",
       "7    200.0  0.01  500.0  0.000001  surface2\n",
       "8      0.0  0.01 -700.0  0.000001  surface2\n",
       "9    800.0  0.01 -500.0  0.000001  surface2\n",
       "10  1000.0  0.01 -700.0  0.000001  surface2"
      ]
     },
     "execution_count": 317,
     "metadata": {},
     "output_type": "execute_result"
    }
   ],
   "source": [
    "geo_model.add_surface_points(X=500, Y=0.01, Z=-400, surface='surface2') \n",
    "geo_model.add_surface_points(X=200, Y=0.01, Z=500, surface='surface2') \n",
    "geo_model.add_surface_points(X=0, Y=0.01, Z=-700, surface='surface2')\n",
    "geo_model.add_surface_points(X=800, Y=0.01, Z=-500, surface='surface2') \n",
    "geo_model.add_surface_points(X=1000, Y=0.01, Z=-700, surface='surface2') "
   ]
  },
  {
   "cell_type": "code",
   "execution_count": 318,
   "id": "18add1ea",
   "metadata": {},
   "outputs": [
    {
     "data": {
      "text/plain": [
       "\n",
       "Lithology ids \n",
       "  [4. 4. 4. ... 1. 1. 1.] "
      ]
     },
     "execution_count": 318,
     "metadata": {},
     "output_type": "execute_result"
    }
   ],
   "source": [
    "gp.compute_model(geo_model)"
   ]
  },
  {
   "cell_type": "code",
   "execution_count": 319,
   "id": "58b0750d",
   "metadata": {},
   "outputs": [
    {
     "name": "stderr",
     "output_type": "stream",
     "text": [
      "C:\\Users\\AHMED\\anaconda3\\lib\\site-packages\\gempy\\plot\\plot_api.py:261: UserWarning: Matplotlib is currently using module://matplotlib_inline.backend_inline, which is a non-GUI backend, so cannot show the figure.\n",
      "  p.fig.show()\n",
      "C:\\Users\\AHMED\\anaconda3\\lib\\site-packages\\pyvista\\plotting\\tools.py:571: PyvistaDeprecationWarning: The usage of `parse_color` is deprecated in favor of the new `Color` class.\n",
      "  warnings.warn(\n"
     ]
    },
    {
     "data": {
      "text/plain": [
       "<gempy.plot.vista.GemPyToVista at 0x2068dd92d60>"
      ]
     },
     "execution_count": 319,
     "metadata": {},
     "output_type": "execute_result"
    },
    {
     "data": {
      "image/png": "[encoded data removed]",
      "text/plain": [
       "<Figure size 748.8x514.8 with 1 Axes>"
      ]
     },
     "metadata": {},
     "output_type": "display_data"
    }
   ],
   "source": [
    "gp.plot_2d(geo_model, cell_number=5, legend='force')\n",
    "gp.plot_3d(geo_model)"
   ]
  },
  {
   "cell_type": "code",
   "execution_count": 320,
   "id": "aea22800",
   "metadata": {},
   "outputs": [
    {
     "data": {
      "text/html": [
       "<table border=\"1\" class=\"dataframe\">\n",
       "  <thead>\n",
       "    <tr style=\"text-align: right;\">\n",
       "      <th></th>\n",
       "      <th>X</th>\n",
       "      <th>Y</th>\n",
       "      <th>Z</th>\n",
       "      <th>smooth</th>\n",
       "      <th>surface</th>\n",
       "    </tr>\n",
       "  </thead>\n",
       "  <tbody>\n",
       "    <tr>\n",
       "      <th>0</th>\n",
       "      <td>500.0</td>\n",
       "      <td>0.01</td>\n",
       "      <td>-100.0</td>\n",
       "      <td>0.000001</td>\n",
       "      <td>surface1</td>\n",
       "    </tr>\n",
       "    <tr>\n",
       "      <th>1</th>\n",
       "      <td>700.0</td>\n",
       "      <td>0.01</td>\n",
       "      <td>-100.0</td>\n",
       "      <td>0.000001</td>\n",
       "      <td>surface1</td>\n",
       "    </tr>\n",
       "    <tr>\n",
       "      <th>2</th>\n",
       "      <td>200.0</td>\n",
       "      <td>0.01</td>\n",
       "      <td>-300.0</td>\n",
       "      <td>0.000001</td>\n",
       "      <td>surface1</td>\n",
       "    </tr>\n",
       "    <tr>\n",
       "      <th>3</th>\n",
       "      <td>0.0</td>\n",
       "      <td>0.01</td>\n",
       "      <td>-500.0</td>\n",
       "      <td>0.000001</td>\n",
       "      <td>surface1</td>\n",
       "    </tr>\n",
       "    <tr>\n",
       "      <th>4</th>\n",
       "      <td>800.0</td>\n",
       "      <td>0.01</td>\n",
       "      <td>-300.0</td>\n",
       "      <td>0.000001</td>\n",
       "      <td>surface1</td>\n",
       "    </tr>\n",
       "    <tr>\n",
       "      <th>5</th>\n",
       "      <td>1000.0</td>\n",
       "      <td>0.01</td>\n",
       "      <td>-500.0</td>\n",
       "      <td>0.000001</td>\n",
       "      <td>surface1</td>\n",
       "    </tr>\n",
       "    <tr>\n",
       "      <th>6</th>\n",
       "      <td>500.0</td>\n",
       "      <td>0.01</td>\n",
       "      <td>-400.0</td>\n",
       "      <td>0.000001</td>\n",
       "      <td>surface2</td>\n",
       "    </tr>\n",
       "    <tr>\n",
       "      <th>7</th>\n",
       "      <td>200.0</td>\n",
       "      <td>0.01</td>\n",
       "      <td>500.0</td>\n",
       "      <td>0.000001</td>\n",
       "      <td>surface2</td>\n",
       "    </tr>\n",
       "    <tr>\n",
       "      <th>8</th>\n",
       "      <td>0.0</td>\n",
       "      <td>0.01</td>\n",
       "      <td>-700.0</td>\n",
       "      <td>0.000001</td>\n",
       "      <td>surface2</td>\n",
       "    </tr>\n",
       "    <tr>\n",
       "      <th>9</th>\n",
       "      <td>800.0</td>\n",
       "      <td>0.01</td>\n",
       "      <td>-500.0</td>\n",
       "      <td>0.000001</td>\n",
       "      <td>surface2</td>\n",
       "    </tr>\n",
       "    <tr>\n",
       "      <th>10</th>\n",
       "      <td>1000.0</td>\n",
       "      <td>0.01</td>\n",
       "      <td>-700.0</td>\n",
       "      <td>0.000001</td>\n",
       "      <td>surface2</td>\n",
       "    </tr>\n",
       "    <tr>\n",
       "      <th>11</th>\n",
       "      <td>500.0</td>\n",
       "      <td>0.01</td>\n",
       "      <td>-600.0</td>\n",
       "      <td>0.000001</td>\n",
       "      <td>surface3</td>\n",
       "    </tr>\n",
       "    <tr>\n",
       "      <th>12</th>\n",
       "      <td>200.0</td>\n",
       "      <td>0.01</td>\n",
       "      <td>-700.0</td>\n",
       "      <td>0.000001</td>\n",
       "      <td>surface3</td>\n",
       "    </tr>\n",
       "    <tr>\n",
       "      <th>13</th>\n",
       "      <td>0.0</td>\n",
       "      <td>0.01</td>\n",
       "      <td>-1000.0</td>\n",
       "      <td>0.000001</td>\n",
       "      <td>surface3</td>\n",
       "    </tr>\n",
       "    <tr>\n",
       "      <th>14</th>\n",
       "      <td>800.0</td>\n",
       "      <td>0.01</td>\n",
       "      <td>-700.0</td>\n",
       "      <td>0.000001</td>\n",
       "      <td>surface3</td>\n",
       "    </tr>\n",
       "    <tr>\n",
       "      <th>15</th>\n",
       "      <td>1000.0</td>\n",
       "      <td>0.01</td>\n",
       "      <td>-1000.0</td>\n",
       "      <td>0.000001</td>\n",
       "      <td>surface3</td>\n",
       "    </tr>\n",
       "  </tbody>\n",
       "</table>"
      ],
      "text/plain": [
       "         X     Y       Z    smooth   surface\n",
       "0    500.0  0.01  -100.0  0.000001  surface1\n",
       "1    700.0  0.01  -100.0  0.000001  surface1\n",
       "2    200.0  0.01  -300.0  0.000001  surface1\n",
       "3      0.0  0.01  -500.0  0.000001  surface1\n",
       "4    800.0  0.01  -300.0  0.000001  surface1\n",
       "5   1000.0  0.01  -500.0  0.000001  surface1\n",
       "6    500.0  0.01  -400.0  0.000001  surface2\n",
       "7    200.0  0.01   500.0  0.000001  surface2\n",
       "8      0.0  0.01  -700.0  0.000001  surface2\n",
       "9    800.0  0.01  -500.0  0.000001  surface2\n",
       "10  1000.0  0.01  -700.0  0.000001  surface2\n",
       "11   500.0  0.01  -600.0  0.000001  surface3\n",
       "12   200.0  0.01  -700.0  0.000001  surface3\n",
       "13     0.0  0.01 -1000.0  0.000001  surface3\n",
       "14   800.0  0.01  -700.0  0.000001  surface3\n",
       "15  1000.0  0.01 -1000.0  0.000001  surface3"
      ]
     },
     "execution_count": 320,
     "metadata": {},
     "output_type": "execute_result"
    }
   ],
   "source": [
    "geo_model.add_surface_points(X=500, Y=0.01, Z=-600, surface='surface3') \n",
    "geo_model.add_surface_points(X=200, Y=0.01, Z=-700, surface='surface3') \n",
    "geo_model.add_surface_points(X=0, Y=0.01, Z=-1000, surface='surface3')\n",
    "geo_model.add_surface_points(X=800, Y=0.01, Z=-700, surface='surface3') \n",
    "geo_model.add_surface_points(X=1000, Y=0.01, Z=-1000, surface='surface3') "
   ]
  },
  {
   "cell_type": "code",
   "execution_count": 321,
   "id": "63f3a69b",
   "metadata": {},
   "outputs": [
    {
     "data": {
      "text/plain": [
       "\n",
       "Lithology ids \n",
       "  [3. 3. 3. ... 1. 1. 1.] "
      ]
     },
     "execution_count": 321,
     "metadata": {},
     "output_type": "execute_result"
    }
   ],
   "source": [
    "gp.compute_model(geo_model)"
   ]
  },
  {
   "cell_type": "code",
   "execution_count": 322,
   "id": "7ee6292f",
   "metadata": {},
   "outputs": [
    {
     "name": "stderr",
     "output_type": "stream",
     "text": [
      "C:\\Users\\AHMED\\anaconda3\\lib\\site-packages\\gempy\\plot\\plot_api.py:261: UserWarning: Matplotlib is currently using module://matplotlib_inline.backend_inline, which is a non-GUI backend, so cannot show the figure.\n",
      "  p.fig.show()\n",
      "C:\\Users\\AHMED\\anaconda3\\lib\\site-packages\\pyvista\\plotting\\tools.py:571: PyvistaDeprecationWarning: The usage of `parse_color` is deprecated in favor of the new `Color` class.\n",
      "  warnings.warn(\n"
     ]
    },
    {
     "data": {
      "text/plain": [
       "<gempy.plot.vista.GemPyToVista at 0x20684233b20>"
      ]
     },
     "execution_count": 322,
     "metadata": {},
     "output_type": "execute_result"
    },
    {
     "data": {
      "image/png": "[encoded data removed]",
      "text/plain": [
       "<Figure size 748.8x514.8 with 1 Axes>"
      ]
     },
     "metadata": {},
     "output_type": "display_data"
    }
   ],
   "source": [
    "gp.plot_2d(geo_model, cell_number=5, legend='force')\n",
    "gp.plot_3d(geo_model, kwargs_plot_structured_grid={'opacity': .2})"
   ]
  },
  {
   "cell_type": "code",
   "execution_count": 323,
   "id": "fc5ebf22",
   "metadata": {},
   "outputs": [
    {
     "data": {
      "text/html": [
       "<table border=\"1\" class=\"dataframe\">\n",
       "  <thead>\n",
       "    <tr style=\"text-align: right;\">\n",
       "      <th></th>\n",
       "      <th>order_series</th>\n",
       "      <th>BottomRelation</th>\n",
       "      <th>isActive</th>\n",
       "      <th>isFault</th>\n",
       "      <th>isFinite</th>\n",
       "    </tr>\n",
       "  </thead>\n",
       "  <tbody>\n",
       "    <tr>\n",
       "      <th>Default series</th>\n",
       "      <td>1</td>\n",
       "      <td>Erosion</td>\n",
       "      <td>True</td>\n",
       "      <td>False</td>\n",
       "      <td>False</td>\n",
       "    </tr>\n",
       "    <tr>\n",
       "      <th>Fault1</th>\n",
       "      <td>2</td>\n",
       "      <td>Erosion</td>\n",
       "      <td>False</td>\n",
       "      <td>False</td>\n",
       "      <td>False</td>\n",
       "    </tr>\n",
       "  </tbody>\n",
       "</table>"
      ],
      "text/plain": [
       "                order_series BottomRelation  isActive  isFault  isFinite\n",
       "Default series             1        Erosion      True    False     False\n",
       "Fault1                     2        Erosion     False    False     False"
      ]
     },
     "execution_count": 323,
     "metadata": {},
     "output_type": "execute_result"
    }
   ],
   "source": [
    "geo_model.add_features('Fault1')   ### add fault ###"
   ]
  },
  {
   "cell_type": "code",
   "execution_count": 324,
   "id": "d843afd3",
   "metadata": {},
   "outputs": [
    {
     "data": {
      "text/html": [
       "<table border=\"1\" class=\"dataframe\">\n",
       "  <thead>\n",
       "    <tr style=\"text-align: right;\">\n",
       "      <th></th>\n",
       "      <th>order_series</th>\n",
       "      <th>BottomRelation</th>\n",
       "      <th>isActive</th>\n",
       "      <th>isFault</th>\n",
       "      <th>isFinite</th>\n",
       "    </tr>\n",
       "  </thead>\n",
       "  <tbody>\n",
       "    <tr>\n",
       "      <th>Fault1</th>\n",
       "      <td>1</td>\n",
       "      <td>Erosion</td>\n",
       "      <td>False</td>\n",
       "      <td>False</td>\n",
       "      <td>False</td>\n",
       "    </tr>\n",
       "    <tr>\n",
       "      <th>Default series</th>\n",
       "      <td>2</td>\n",
       "      <td>Erosion</td>\n",
       "      <td>True</td>\n",
       "      <td>False</td>\n",
       "      <td>False</td>\n",
       "    </tr>\n",
       "  </tbody>\n",
       "</table>"
      ],
      "text/plain": [
       "                order_series BottomRelation  isActive  isFault  isFinite\n",
       "Fault1                     1        Erosion     False    False     False\n",
       "Default series             2        Erosion      True    False     False"
      ]
     },
     "execution_count": 324,
     "metadata": {},
     "output_type": "execute_result"
    }
   ],
   "source": [
    "geo_model.reorder_features(['Fault1', 'Default series'])"
   ]
  },
  {
   "cell_type": "code",
   "execution_count": 325,
   "id": "9269f330",
   "metadata": {},
   "outputs": [
    {
     "name": "stdout",
     "output_type": "stream",
     "text": [
      "Fault colors changed. If you do not like this behavior, set change_color to False.\n"
     ]
    },
    {
     "data": {
      "text/html": [
       "<table border=\"1\" class=\"dataframe\">\n",
       "  <thead>\n",
       "    <tr style=\"text-align: right;\">\n",
       "      <th></th>\n",
       "      <th>order_series</th>\n",
       "      <th>BottomRelation</th>\n",
       "      <th>isActive</th>\n",
       "      <th>isFault</th>\n",
       "      <th>isFinite</th>\n",
       "    </tr>\n",
       "  </thead>\n",
       "  <tbody>\n",
       "    <tr>\n",
       "      <th>Fault1</th>\n",
       "      <td>1</td>\n",
       "      <td>Fault</td>\n",
       "      <td>False</td>\n",
       "      <td>True</td>\n",
       "      <td>False</td>\n",
       "    </tr>\n",
       "    <tr>\n",
       "      <th>Default series</th>\n",
       "      <td>2</td>\n",
       "      <td>Erosion</td>\n",
       "      <td>True</td>\n",
       "      <td>False</td>\n",
       "      <td>False</td>\n",
       "    </tr>\n",
       "  </tbody>\n",
       "</table>"
      ],
      "text/plain": [
       "                order_series BottomRelation  isActive  isFault  isFinite\n",
       "Fault1                     1          Fault     False     True     False\n",
       "Default series             2        Erosion      True    False     False"
      ]
     },
     "execution_count": 325,
     "metadata": {},
     "output_type": "execute_result"
    }
   ],
   "source": [
    "geo_model.set_is_fault('Fault1')"
   ]
  },
  {
   "cell_type": "code",
   "execution_count": 326,
   "id": "e1f64125",
   "metadata": {},
   "outputs": [
    {
     "data": {
      "text/html": [
       "<style type=\"text/css\">\n",
       "#T_b910b_row0_col3 {\n",
       "  background-color: #015482;\n",
       "}\n",
       "#T_b910b_row1_col3 {\n",
       "  background-color: #9f0052;\n",
       "}\n",
       "#T_b910b_row2_col3 {\n",
       "  background-color: #ffbe00;\n",
       "}\n",
       "#T_b910b_row3_col3 {\n",
       "  background-color: #728f02;\n",
       "}\n",
       "#T_b910b_row4_col3 {\n",
       "  background-color: #443988;\n",
       "}\n",
       "</style>\n",
       "<table id=\"T_b910b_\">\n",
       "  <thead>\n",
       "    <tr>\n",
       "      <th class=\"blank level0\" >&nbsp;</th>\n",
       "      <th class=\"col_heading level0 col0\" >surface</th>\n",
       "      <th class=\"col_heading level0 col1\" >series</th>\n",
       "      <th class=\"col_heading level0 col2\" >order_surfaces</th>\n",
       "      <th class=\"col_heading level0 col3\" >color</th>\n",
       "      <th class=\"col_heading level0 col4\" >id</th>\n",
       "    </tr>\n",
       "  </thead>\n",
       "  <tbody>\n",
       "    <tr>\n",
       "      <th id=\"T_b910b_level0_row0\" class=\"row_heading level0 row0\" >0</th>\n",
       "      <td id=\"T_b910b_row0_col0\" class=\"data row0 col0\" >surface1</td>\n",
       "      <td id=\"T_b910b_row0_col1\" class=\"data row0 col1\" >Default series</td>\n",
       "      <td id=\"T_b910b_row0_col2\" class=\"data row0 col2\" >1</td>\n",
       "      <td id=\"T_b910b_row0_col3\" class=\"data row0 col3\" >#015482</td>\n",
       "      <td id=\"T_b910b_row0_col4\" class=\"data row0 col4\" >1</td>\n",
       "    </tr>\n",
       "    <tr>\n",
       "      <th id=\"T_b910b_level0_row1\" class=\"row_heading level0 row1\" >1</th>\n",
       "      <td id=\"T_b910b_row1_col0\" class=\"data row1 col0\" >surface2</td>\n",
       "      <td id=\"T_b910b_row1_col1\" class=\"data row1 col1\" >Default series</td>\n",
       "      <td id=\"T_b910b_row1_col2\" class=\"data row1 col2\" >2</td>\n",
       "      <td id=\"T_b910b_row1_col3\" class=\"data row1 col3\" >#9f0052</td>\n",
       "      <td id=\"T_b910b_row1_col4\" class=\"data row1 col4\" >2</td>\n",
       "    </tr>\n",
       "    <tr>\n",
       "      <th id=\"T_b910b_level0_row2\" class=\"row_heading level0 row2\" >2</th>\n",
       "      <td id=\"T_b910b_row2_col0\" class=\"data row2 col0\" >surface3</td>\n",
       "      <td id=\"T_b910b_row2_col1\" class=\"data row2 col1\" >Default series</td>\n",
       "      <td id=\"T_b910b_row2_col2\" class=\"data row2 col2\" >3</td>\n",
       "      <td id=\"T_b910b_row2_col3\" class=\"data row2 col3\" >#ffbe00</td>\n",
       "      <td id=\"T_b910b_row2_col4\" class=\"data row2 col4\" >3</td>\n",
       "    </tr>\n",
       "    <tr>\n",
       "      <th id=\"T_b910b_level0_row3\" class=\"row_heading level0 row3\" >3</th>\n",
       "      <td id=\"T_b910b_row3_col0\" class=\"data row3 col0\" >basement</td>\n",
       "      <td id=\"T_b910b_row3_col1\" class=\"data row3 col1\" >Default series</td>\n",
       "      <td id=\"T_b910b_row3_col2\" class=\"data row3 col2\" >4</td>\n",
       "      <td id=\"T_b910b_row3_col3\" class=\"data row3 col3\" >#728f02</td>\n",
       "      <td id=\"T_b910b_row3_col4\" class=\"data row3 col4\" >4</td>\n",
       "    </tr>\n",
       "    <tr>\n",
       "      <th id=\"T_b910b_level0_row4\" class=\"row_heading level0 row4\" >4</th>\n",
       "      <td id=\"T_b910b_row4_col0\" class=\"data row4 col0\" >fault1</td>\n",
       "      <td id=\"T_b910b_row4_col1\" class=\"data row4 col1\" >Default series</td>\n",
       "      <td id=\"T_b910b_row4_col2\" class=\"data row4 col2\" >5</td>\n",
       "      <td id=\"T_b910b_row4_col3\" class=\"data row4 col3\" >#443988</td>\n",
       "      <td id=\"T_b910b_row4_col4\" class=\"data row4 col4\" >5</td>\n",
       "    </tr>\n",
       "  </tbody>\n",
       "</table>\n"
      ],
      "text/plain": [
       "    surface          series  order_surfaces    color  id\n",
       "0  surface1  Default series               1  #015482   1\n",
       "1  surface2  Default series               2  #9f0052   2\n",
       "2  surface3  Default series               3  #ffbe00   3\n",
       "3  basement  Default series               4  #728f02   4\n",
       "4    fault1  Default series               5  #443988   5"
      ]
     },
     "execution_count": 326,
     "metadata": {},
     "output_type": "execute_result"
    }
   ],
   "source": [
    "geo_model.add_surfaces('fault1')"
   ]
  },
  {
   "cell_type": "code",
   "execution_count": 327,
   "id": "a87bf212",
   "metadata": {},
   "outputs": [
    {
     "data": {
      "text/html": [
       "<style type=\"text/css\">\n",
       "#T_8b04a_row0_col3 {\n",
       "  background-color: #443988;\n",
       "}\n",
       "#T_8b04a_row1_col3 {\n",
       "  background-color: #015482;\n",
       "}\n",
       "#T_8b04a_row2_col3 {\n",
       "  background-color: #9f0052;\n",
       "}\n",
       "#T_8b04a_row3_col3 {\n",
       "  background-color: #ffbe00;\n",
       "}\n",
       "#T_8b04a_row4_col3 {\n",
       "  background-color: #728f02;\n",
       "}\n",
       "</style>\n",
       "<table id=\"T_8b04a_\">\n",
       "  <thead>\n",
       "    <tr>\n",
       "      <th class=\"blank level0\" >&nbsp;</th>\n",
       "      <th class=\"col_heading level0 col0\" >surface</th>\n",
       "      <th class=\"col_heading level0 col1\" >series</th>\n",
       "      <th class=\"col_heading level0 col2\" >order_surfaces</th>\n",
       "      <th class=\"col_heading level0 col3\" >color</th>\n",
       "      <th class=\"col_heading level0 col4\" >id</th>\n",
       "    </tr>\n",
       "  </thead>\n",
       "  <tbody>\n",
       "    <tr>\n",
       "      <th id=\"T_8b04a_level0_row0\" class=\"row_heading level0 row0\" >4</th>\n",
       "      <td id=\"T_8b04a_row0_col0\" class=\"data row0 col0\" >fault1</td>\n",
       "      <td id=\"T_8b04a_row0_col1\" class=\"data row0 col1\" >Fault1</td>\n",
       "      <td id=\"T_8b04a_row0_col2\" class=\"data row0 col2\" >1</td>\n",
       "      <td id=\"T_8b04a_row0_col3\" class=\"data row0 col3\" >#443988</td>\n",
       "      <td id=\"T_8b04a_row0_col4\" class=\"data row0 col4\" >1</td>\n",
       "    </tr>\n",
       "    <tr>\n",
       "      <th id=\"T_8b04a_level0_row1\" class=\"row_heading level0 row1\" >0</th>\n",
       "      <td id=\"T_8b04a_row1_col0\" class=\"data row1 col0\" >surface1</td>\n",
       "      <td id=\"T_8b04a_row1_col1\" class=\"data row1 col1\" >Default series</td>\n",
       "      <td id=\"T_8b04a_row1_col2\" class=\"data row1 col2\" >1</td>\n",
       "      <td id=\"T_8b04a_row1_col3\" class=\"data row1 col3\" >#015482</td>\n",
       "      <td id=\"T_8b04a_row1_col4\" class=\"data row1 col4\" >2</td>\n",
       "    </tr>\n",
       "    <tr>\n",
       "      <th id=\"T_8b04a_level0_row2\" class=\"row_heading level0 row2\" >1</th>\n",
       "      <td id=\"T_8b04a_row2_col0\" class=\"data row2 col0\" >surface2</td>\n",
       "      <td id=\"T_8b04a_row2_col1\" class=\"data row2 col1\" >Default series</td>\n",
       "      <td id=\"T_8b04a_row2_col2\" class=\"data row2 col2\" >2</td>\n",
       "      <td id=\"T_8b04a_row2_col3\" class=\"data row2 col3\" >#9f0052</td>\n",
       "      <td id=\"T_8b04a_row2_col4\" class=\"data row2 col4\" >3</td>\n",
       "    </tr>\n",
       "    <tr>\n",
       "      <th id=\"T_8b04a_level0_row3\" class=\"row_heading level0 row3\" >2</th>\n",
       "      <td id=\"T_8b04a_row3_col0\" class=\"data row3 col0\" >surface3</td>\n",
       "      <td id=\"T_8b04a_row3_col1\" class=\"data row3 col1\" >Default series</td>\n",
       "      <td id=\"T_8b04a_row3_col2\" class=\"data row3 col2\" >3</td>\n",
       "      <td id=\"T_8b04a_row3_col3\" class=\"data row3 col3\" >#ffbe00</td>\n",
       "      <td id=\"T_8b04a_row3_col4\" class=\"data row3 col4\" >4</td>\n",
       "    </tr>\n",
       "    <tr>\n",
       "      <th id=\"T_8b04a_level0_row4\" class=\"row_heading level0 row4\" >3</th>\n",
       "      <td id=\"T_8b04a_row4_col0\" class=\"data row4 col0\" >basement</td>\n",
       "      <td id=\"T_8b04a_row4_col1\" class=\"data row4 col1\" >Default series</td>\n",
       "      <td id=\"T_8b04a_row4_col2\" class=\"data row4 col2\" >4</td>\n",
       "      <td id=\"T_8b04a_row4_col3\" class=\"data row4 col3\" >#728f02</td>\n",
       "      <td id=\"T_8b04a_row4_col4\" class=\"data row4 col4\" >5</td>\n",
       "    </tr>\n",
       "  </tbody>\n",
       "</table>\n"
      ],
      "text/plain": [
       "    surface          series  order_surfaces    color  id\n",
       "4    fault1          Fault1               1  #443988   1\n",
       "0  surface1  Default series               1  #015482   2\n",
       "1  surface2  Default series               2  #9f0052   3\n",
       "2  surface3  Default series               3  #ffbe00   4\n",
       "3  basement  Default series               4  #728f02   5"
      ]
     },
     "execution_count": 327,
     "metadata": {},
     "output_type": "execute_result"
    }
   ],
   "source": [
    "gp.map_stack_to_surfaces(geo_model, {'Fault1': 'fault1'})"
   ]
  },
  {
   "cell_type": "code",
   "execution_count": 328,
   "id": "d0f78b9f",
   "metadata": {},
   "outputs": [
    {
     "data": {
      "text/html": [
       "<table border=\"1\" class=\"dataframe\">\n",
       "  <thead>\n",
       "    <tr style=\"text-align: right;\">\n",
       "      <th></th>\n",
       "      <th>X</th>\n",
       "      <th>Y</th>\n",
       "      <th>Z</th>\n",
       "      <th>G_x</th>\n",
       "      <th>G_y</th>\n",
       "      <th>G_z</th>\n",
       "      <th>smooth</th>\n",
       "      <th>surface</th>\n",
       "    </tr>\n",
       "  </thead>\n",
       "  <tbody>\n",
       "    <tr>\n",
       "      <th>1</th>\n",
       "      <td>0.0</td>\n",
       "      <td>0.0</td>\n",
       "      <td>0.0</td>\n",
       "      <td>0.3</td>\n",
       "      <td>0.0</td>\n",
       "      <td>0.3</td>\n",
       "      <td>0.01</td>\n",
       "      <td>fault1</td>\n",
       "    </tr>\n",
       "    <tr>\n",
       "      <th>0</th>\n",
       "      <td>350.0</td>\n",
       "      <td>0.0</td>\n",
       "      <td>-300.0</td>\n",
       "      <td>0.0</td>\n",
       "      <td>0.0</td>\n",
       "      <td>1.0</td>\n",
       "      <td>0.01</td>\n",
       "      <td>surface1</td>\n",
       "    </tr>\n",
       "  </tbody>\n",
       "</table>"
      ],
      "text/plain": [
       "       X    Y      Z  G_x  G_y  G_z  smooth   surface\n",
       "1    0.0  0.0    0.0  0.3  0.0  0.3    0.01    fault1\n",
       "0  350.0  0.0 -300.0  0.0  0.0  1.0    0.01  surface1"
      ]
     },
     "execution_count": 328,
     "metadata": {},
     "output_type": "execute_result"
    }
   ],
   "source": [
    "geo_model.add_surface_points(X=0, Y=0, Z=-0, surface='fault1')\n",
    "geo_model.add_surface_points(X=200, Y=0, Z=-100, surface='fault1')\n",
    "geo_model.add_surface_points(X=400, Y=0, Z=-300, surface='fault1')\n",
    "geo_model.add_surface_points(X=600, Y=0, Z=-500, surface='fault1')\n",
    "geo_model.add_surface_points(X=800, Y=0, Z=-700, surface='fault1')\n",
    "geo_model.add_surface_points(X=1000, Y=0, Z=-800, surface='fault1')\n",
    "geo_model.add_orientations(X=0, Y=0, Z=-0, surface='fault1', pole_vector=(.3, 0, .3))"
   ]
  },
  {
   "cell_type": "code",
   "execution_count": 330,
   "id": "c030d41a",
   "metadata": {},
   "outputs": [
    {
     "data": {
      "text/plain": [
       "<gempy.plot.vista.GemPyToVista at 0x20682fb32e0>"
      ]
     },
     "execution_count": 330,
     "metadata": {},
     "output_type": "execute_result"
    },
    {
     "data": {
      "image/png": "[encoded data removed]",
      "text/plain": [
       "<Figure size 748.8x514.8 with 1 Axes>"
      ]
     },
     "metadata": {},
     "output_type": "display_data"
    }
   ],
   "source": [
    "gp.compute_model(geo_model)\n",
    "gp.plot_2d(geo_model,cell_number=5, legend='force')\n",
    "gp.plot_3d(geo_model, kwargs_plot_structured_grid={'opacity': .2})"
   ]
  },
  {
   "cell_type": "code",
   "execution_count": null,
   "id": "0bf54649",
   "metadata": {},
   "outputs": [],
   "source": []
  },
  {
   "cell_type": "code",
   "execution_count": null,
   "id": "246a838e",
   "metadata": {},
   "outputs": [],
   "source": []
  }
 ],
 "metadata": {
  "kernelspec": {
   "display_name": "Python 3 (ipykernel)",
   "language": "python",
   "name": "python3"
  },
  "language_info": {
   "codemirror_mode": {
    "name": "ipython",
    "version": 3
   },
   "file_extension": ".py",
   "mimetype": "text/x-python",
   "name": "python",
   "nbconvert_exporter": "python",
   "pygments_lexer": "ipython3",
   "version": "3.9.12"
  }
 },
 "nbformat": 4,
 "nbformat_minor": 5
}
